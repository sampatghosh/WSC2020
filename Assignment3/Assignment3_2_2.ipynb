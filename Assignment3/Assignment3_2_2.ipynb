{
  "nbformat": 4,
  "nbformat_minor": 0,
  "metadata": {
    "accelerator": "GPU",
    "colab": {
      "name": "Assignment3_2_2_Updated.ipynb",
      "provenance": [],
      "collapsed_sections": [],
      "toc_visible": true
    },
    "kernelspec": {
      "display_name": "Python 3",
      "language": "python",
      "name": "python3"
    },
    "language_info": {
      "codemirror_mode": {
        "name": "ipython",
        "version": 3
      },
      "file_extension": ".py",
      "mimetype": "text/x-python",
      "name": "python",
      "nbconvert_exporter": "python",
      "pygments_lexer": "ipython3",
      "version": "3.7.6"
    }
  },
  "cells": [
    {
      "cell_type": "code",
      "metadata": {
        "colab_type": "code",
        "id": "r4F20GSkJRpF",
        "colab": {}
      },
      "source": [
        "import pandas as pd\n",
        "import networkx as nx\n",
        "import matplotlib\n",
        "matplotlib.use('Agg')\n",
        "import matplotlib.pyplot as plt"
      ],
      "execution_count": 0,
      "outputs": []
    },
    {
      "cell_type": "markdown",
      "metadata": {
        "colab_type": "text",
        "id": "fKYWnASbQM8Y"
      },
      "source": [
        "# Facebook Network"
      ]
    },
    {
      "cell_type": "code",
      "metadata": {
        "colab_type": "code",
        "id": "RKYaWPX4QQHY",
        "colab": {}
      },
      "source": [
        "df = pd.read_csv('/content/facebook.txt', sep=\" \")"
      ],
      "execution_count": 0,
      "outputs": []
    },
    {
      "cell_type": "code",
      "metadata": {
        "colab_type": "code",
        "id": "tMcKqxUeQW9m",
        "outputId": "2230785b-0102-4e0d-c88f-55297f879840",
        "colab": {
          "base_uri": "https://localhost:8080/",
          "height": 54
        }
      },
      "source": [
        "G = nx.from_pandas_edgelist(df,'src','des',edge_attr=None,create_using=nx.DiGraph())\n",
        "nx.info(G)"
      ],
      "execution_count": 3,
      "outputs": [
        {
          "output_type": "execute_result",
          "data": {
            "text/plain": [
              "'Name: \\nType: DiGraph\\nNumber of nodes: 4039\\nNumber of edges: 88234\\nAverage in degree:  21.8455\\nAverage out degree:  21.8455'"
            ]
          },
          "metadata": {
            "tags": []
          },
          "execution_count": 3
        }
      ]
    },
    {
      "cell_type": "markdown",
      "metadata": {
        "colab_type": "text",
        "id": "_KRSI1JpQcrV"
      },
      "source": [
        "**Calculating PageRank**"
      ]
    },
    {
      "cell_type": "code",
      "metadata": {
        "colab_type": "code",
        "id": "G0BhQVevQaW4",
        "colab": {}
      },
      "source": [
        "pagerank = nx.pagerank(G)"
      ],
      "execution_count": 0,
      "outputs": []
    },
    {
      "cell_type": "markdown",
      "metadata": {
        "colab_type": "text",
        "id": "sMN57-0vQgI7"
      },
      "source": [
        "**Finding Max and Min PageRank Scores**"
      ]
    },
    {
      "cell_type": "code",
      "metadata": {
        "colab_type": "code",
        "id": "LA5WVsGSQhiF",
        "outputId": "68723eda-c8f5-4783-a5f4-8d78fc726a99",
        "colab": {
          "base_uri": "https://localhost:8080/",
          "height": 51
        }
      },
      "source": [
        "maxScore = max(pagerank.values())\n",
        "minScore = min(pagerank.values())\n",
        "print(\"Max PageRank Score = \",maxScore)\n",
        "print(\"Min PageRank Score = \",minScore) "
      ],
      "execution_count": 0,
      "outputs": [
        {
          "output_type": "stream",
          "text": [
            "Max PageRank Score =  0.00940916451585816\n",
            "Min PageRank Score =  7.724494426592372e-05\n"
          ],
          "name": "stdout"
        }
      ]
    },
    {
      "cell_type": "markdown",
      "metadata": {
        "id": "O-2ETKXk7CRK",
        "colab_type": "text"
      },
      "source": [
        "**Plotting the PageRank Distribution**"
      ]
    },
    {
      "cell_type": "code",
      "metadata": {
        "colab_type": "code",
        "id": "m-KJ1ldeNR5i",
        "outputId": "d1cc06b5-aee9-4beb-8823-a2725282793d",
        "colab": {
          "base_uri": "https://localhost:8080/",
          "height": 71
        }
      },
      "source": [
        "print(len(pagerank))\n",
        "nodeid = []\n",
        "noderank = []\n",
        "for x in pagerank:\n",
        "  nodeid.append(x);\n",
        "  noderank.append((pagerank[x]))\n",
        "  # print(x, round(pagerank[x], 5))\n",
        "noderank.sort();\n",
        "print(noderank[:20])"
      ],
      "execution_count": 0,
      "outputs": [
        {
          "output_type": "stream",
          "text": [
            "4039\n",
            "[7.724494426592372e-05, 7.724494426592372e-05, 7.73129738692073e-05, 7.73129738692073e-05, 7.73129738692073e-05, 7.73129738692073e-05, 7.73129738692073e-05, 7.73129738692073e-05, 7.73129738692073e-05, 7.73129738692073e-05, 7.73129738692073e-05, 7.73129738692073e-05, 7.73129738692073e-05, 7.73129738692073e-05, 7.73129738692073e-05, 7.73129738692073e-05, 7.73129738692073e-05, 7.73129738692073e-05, 7.73129738692073e-05, 7.73129738692073e-05]\n"
          ],
          "name": "stdout"
        }
      ]
    },
    {
      "cell_type": "code",
      "metadata": {
        "colab_type": "code",
        "id": "nPQjIiX4SL6w",
        "outputId": "71d87827-aa0c-4256-f4f9-7912e88c2542",
        "colab": {
          "base_uri": "https://localhost:8080/",
          "height": 221
        }
      },
      "source": [
        "n = len(noderank)\n",
        "rank = []\n",
        "freq = []\n",
        "count = 1;\n",
        "rank.append(noderank[0])\n",
        "freq.append(1)\n",
        "\n",
        "j=0;\n",
        "for i in range(1,n):\n",
        "  if noderank[i-1] == noderank[i]:\n",
        "    freq[j] += 1\n",
        "  else:\n",
        "    freq.append(1)\n",
        "    rank.append(noderank[i])\n",
        "    j += 1\n",
        "\n",
        "print(len(freq))\n",
        "print(len(rank))\n",
        "\n",
        "for i in range(0,10):\n",
        "  print(rank[i], freq[i])\n"
      ],
      "execution_count": 0,
      "outputs": [
        {
          "output_type": "stream",
          "text": [
            "3636\n",
            "3636\n",
            "7.724494426592372e-05 2\n",
            "7.73129738692073e-05 57\n",
            "7.743425555175699e-05 61\n",
            "7.744061578481714e-05 34\n",
            "7.744099817178254e-05 56\n",
            "7.748936749206647e-05 44\n",
            "7.763136200818339e-05 17\n",
            "7.770805044538564e-05 15\n",
            "7.777608004866921e-05 1\n",
            "7.778906233460855e-05 1\n"
          ],
          "name": "stdout"
        }
      ]
    },
    {
      "cell_type": "code",
      "metadata": {
        "colab_type": "code",
        "id": "d-x65aQwXPJh",
        "outputId": "167a162d-b6e2-4913-cea2-fdb1b5be272c",
        "colab": {
          "base_uri": "https://localhost:8080/",
          "height": 350
        }
      },
      "source": [
        "plt.figure(figsize=(10,5))\n",
        "plt.plot(rank,freq)\n",
        "plt.ylabel('Frequency')\n",
        "plt.xlabel('Pagerank Score')\n",
        "plt.title(' Distribution of PageRank Score in Facebook Network(Normal scale)')\n",
        "plt.show()"
      ],
      "execution_count": 0,
      "outputs": [
        {
          "output_type": "display_data",
          "data": {
            "image/png": "[encoded data removed]",
            "text/plain": [
              "<Figure size 720x360 with 1 Axes>"
            ]
          },
          "metadata": {
            "tags": [],
            "needs_background": "light"
          }
        }
      ]
    },
    {
      "cell_type": "code",
      "metadata": {
        "colab_type": "code",
        "id": "khdkCFT_bDbg",
        "outputId": "d1a2f084-8ba1-4465-adda-957e5b98b59b",
        "colab": {
          "base_uri": "https://localhost:8080/",
          "height": 353
        }
      },
      "source": [
        "plt.figure(figsize=(10,5))\n",
        "plt.plot(rank,freq)\n",
        "plt.xscale('log')\n",
        "plt.yscale('log')\n",
        "plt.ylabel('Frequency')\n",
        "plt.xlabel('Pagerank Score')\n",
        "plt.title(' Distribution of PageRank Score in Facebook Network(Logarithmic scale)')\n",
        "plt.show()"
      ],
      "execution_count": 0,
      "outputs": [
        {
          "output_type": "display_data",
          "data": {
            "image/png": "[encoded data removed]",
            "text/plain": [
              "<Figure size 720x360 with 1 Axes>"
            ]
          },
          "metadata": {
            "tags": [],
            "needs_background": "light"
          }
        }
      ]
    },
    {
      "cell_type": "markdown",
      "metadata": {
        "colab_type": "text",
        "id": "UfzKKu6zSQzK"
      },
      "source": [
        "**Calculating HITS score**"
      ]
    },
    {
      "cell_type": "code",
      "metadata": {
        "colab_type": "code",
        "id": "QEfmslD_SRcP",
        "colab": {}
      },
      "source": [
        "hits, authorities = nx.hits(G)"
      ],
      "execution_count": 0,
      "outputs": []
    },
    {
      "cell_type": "markdown",
      "metadata": {
        "colab_type": "text",
        "id": "VM34dKsaXm_8"
      },
      "source": [
        "**Plotting the HITS Score**"
      ]
    },
    {
      "cell_type": "markdown",
      "metadata": {
        "colab_type": "text",
        "id": "Q6Tpc6uSSa5a"
      },
      "source": [
        "**Finding Max and Min HITS Scores**"
      ]
    },
    {
      "cell_type": "code",
      "metadata": {
        "colab_type": "code",
        "id": "bZn7cSlDSe0L",
        "outputId": "2f1b3c29-4e89-4e66-f8ee-b5a127fa5449",
        "colab": {
          "base_uri": "https://localhost:8080/",
          "height": 85
        }
      },
      "source": [
        "maxHitsScore = max(hits.values())\n",
        "minHitsScore = min(hits.values())\n",
        "print(\"Max Hits Score = \",maxHitsScore)\n",
        "print(\"Min Hits Score = \",minHitsScore) \n",
        "\n",
        "maxAuthoritiesScore = max(authorities.values())\n",
        "minAuthoritiesScore = min(authorities.values())\n",
        "print(\"Max Authorities Score = \",maxAuthoritiesScore)\n",
        "print(\"Min Authorities Score = \",minAuthoritiesScore) "
      ],
      "execution_count": 0,
      "outputs": [
        {
          "output_type": "stream",
          "text": [
            "Max Hits Score =  0.010229403947448484\n",
            "Min Hits Score =  0.0\n",
            "Max Authorities Score =  0.007932133892198798\n",
            "Min Authorities Score =  0.0\n"
          ],
          "name": "stdout"
        }
      ]
    },
    {
      "cell_type": "markdown",
      "metadata": {
        "id": "Rm2MtjNv7CSD",
        "colab_type": "text"
      },
      "source": [
        "**Plotting the HITS Score Distribution**"
      ]
    },
    {
      "cell_type": "code",
      "metadata": {
        "colab_type": "code",
        "id": "wdTBco_VYbHr",
        "outputId": "544926e3-cb26-4c6e-e636-d5616725f1ea",
        "colab": {
          "base_uri": "https://localhost:8080/",
          "height": 52
        }
      },
      "source": [
        "print(len(hits))\n",
        "nodeid2 = []\n",
        "noderank2 = []\n",
        "for x in hits:\n",
        "  nodeid2.append(x);\n",
        "  noderank2.append((hits[x]))\n",
        "noderank2.sort();\n",
        "print(noderank2[:20])"
      ],
      "execution_count": 5,
      "outputs": [
        {
          "output_type": "stream",
          "text": [
            "4039\n",
            "[0.0, 0.0, 0.0, 0.0, 0.0, 0.0, 0.0, 0.0, 0.0, 0.0, 0.0, 0.0, 0.0, 0.0, 0.0, 0.0, 0.0, 0.0, 0.0, 0.0]\n"
          ],
          "name": "stdout"
        }
      ]
    },
    {
      "cell_type": "code",
      "metadata": {
        "colab_type": "code",
        "id": "8qeQqD47Yxmm",
        "colab": {}
      },
      "source": [
        "n = len(noderank2)\n",
        "rank2 = []\n",
        "freq2 = []\n",
        "count = 1;\n",
        "rank2.append(noderank2[0])\n",
        "freq2.append(1)"
      ],
      "execution_count": 0,
      "outputs": []
    },
    {
      "cell_type": "code",
      "metadata": {
        "colab_type": "code",
        "id": "7h7qchCpY3lW",
        "outputId": "3ebfa984-5ad9-492a-f464-dbdf5a4920a0",
        "colab": {
          "base_uri": "https://localhost:8080/",
          "height": 52
        }
      },
      "source": [
        "j=0;\n",
        "for i in range(1,n):\n",
        "  if noderank2[i-1] == noderank2[i]:\n",
        "    freq2[j] += 1\n",
        "  else:\n",
        "    freq2.append(1)\n",
        "    rank2.append(noderank2[i])\n",
        "    j += 1\n",
        "\n",
        "print(len(freq2))\n",
        "print(len(rank2))"
      ],
      "execution_count": 7,
      "outputs": [
        {
          "output_type": "stream",
          "text": [
            "3585\n",
            "3585\n"
          ],
          "name": "stdout"
        }
      ]
    },
    {
      "cell_type": "code",
      "metadata": {
        "colab_type": "code",
        "id": "BzmkOhQKZBxL",
        "outputId": "d5193e0b-e43b-48f8-ad18-bfa49dd8ede6",
        "colab": {
          "base_uri": "https://localhost:8080/",
          "height": 191
        }
      },
      "source": [
        "for i in range(0,10):\n",
        "  print(rank2[i], freq2[i])"
      ],
      "execution_count": 8,
      "outputs": [
        {
          "output_type": "stream",
          "text": [
            "0.0 376\n",
            "2.111776915148689e-19 1\n",
            "2.1243909165146116e-19 1\n",
            "2.189876094270696e-19 1\n",
            "2.511230949211373e-19 1\n",
            "2.675495470374615e-19 1\n",
            "3.109953694795842e-19 1\n",
            "3.270480794147121e-19 2\n",
            "4.2630508827527625e-19 1\n",
            "4.379549059591757e-19 1\n"
          ],
          "name": "stdout"
        }
      ]
    },
    {
      "cell_type": "code",
      "metadata": {
        "colab_type": "code",
        "id": "x8aIk32CZI-x",
        "outputId": "99044bd4-a360-4217-f059-8b77254eee1b",
        "colab": {
          "base_uri": "https://localhost:8080/",
          "height": 350
        }
      },
      "source": [
        "plt.figure(figsize=(10,5))\n",
        "plt.plot(rank2,freq2)\n",
        "plt.ylabel('Frequency')\n",
        "plt.xlabel('Hits Score')\n",
        "plt.title(' Distribution of Hits Score in Facebook Network(Normal scale)')\n",
        "plt.show()"
      ],
      "execution_count": 9,
      "outputs": [
        {
          "output_type": "display_data",
          "data": {
            "image/png": "[encoded data removed]",
            "text/plain": [
              "<Figure size 720x360 with 1 Axes>"
            ]
          },
          "metadata": {
            "tags": [],
            "needs_background": "light"
          }
        }
      ]
    },
    {
      "cell_type": "code",
      "metadata": {
        "colab_type": "code",
        "id": "YGQ-zlIOZNMc",
        "outputId": "4650a650-6728-4e37-f464-f7cb179e114e",
        "colab": {
          "base_uri": "https://localhost:8080/",
          "height": 353
        }
      },
      "source": [
        "plt.figure(figsize=(10,5))\n",
        "plt.plot(rank2,freq2)\n",
        "plt.xscale('log')\n",
        "plt.yscale('log')\n",
        "plt.ylabel('Frequency')\n",
        "plt.xlabel('Hits Score')\n",
        "plt.title(' Distribution of Hits Score in Facebook Network(Logarithmic scale)')\n",
        "plt.show()"
      ],
      "execution_count": 10,
      "outputs": [
        {
          "output_type": "display_data",
          "data": {
            "image/png": "[encoded data removed]",
            "text/plain": [
              "<Figure size 720x360 with 1 Axes>"
            ]
          },
          "metadata": {
            "tags": [],
            "needs_background": "light"
          }
        }
      ]
    },
    {
      "cell_type": "code",
      "metadata": {
        "colab_type": "code",
        "id": "jxWIX_1ubZiT",
        "outputId": "a9ed234e-61da-430a-bb32-9e1f214c0df5",
        "colab": {
          "base_uri": "https://localhost:8080/",
          "height": 72
        }
      },
      "source": [
        "print(len(authorities))\n",
        "nodeid3 = []\n",
        "noderank3 = []\n",
        "for x in authorities:\n",
        "  nodeid3.append(x);\n",
        "  noderank3.append((authorities[x]))\n",
        "noderank3.sort();\n",
        "print(noderank3[:20])"
      ],
      "execution_count": 11,
      "outputs": [
        {
          "output_type": "stream",
          "text": [
            "4039\n",
            "[0.0, 0.0, 2.063761310699587e-17, 2.063761310699587e-17, 2.063761310699587e-17, 2.063761310699587e-17, 2.063761310699587e-17, 2.063761310699587e-17, 2.063761310699587e-17, 2.063761310699587e-17, 2.063761310699587e-17, 2.063761310699587e-17, 2.063761310699587e-17, 2.063761310699587e-17, 2.063761310699587e-17, 2.063761310699587e-17, 2.063761310699587e-17, 2.063761310699587e-17, 2.063761310699587e-17, 2.0639527592290618e-17]\n"
          ],
          "name": "stdout"
        }
      ]
    },
    {
      "cell_type": "code",
      "metadata": {
        "colab_type": "code",
        "id": "LehEA6s1bwdO",
        "outputId": "e9fe67e3-e15a-48f8-e811-50e03ed70838",
        "colab": {
          "base_uri": "https://localhost:8080/",
          "height": 225
        }
      },
      "source": [
        "n = len(noderank3)\n",
        "rank3 = []\n",
        "freq3 = []\n",
        "count = 1;\n",
        "rank3.append(noderank3[0])\n",
        "freq3.append(1)\n",
        "\n",
        "j=0;\n",
        "for i in range(1,n):\n",
        "  if noderank3[i-1] == noderank3[i]:\n",
        "    freq3[j] += 1\n",
        "  else:\n",
        "    freq3.append(1)\n",
        "    rank3.append(noderank3[i])\n",
        "    j += 1\n",
        "\n",
        "print(len(freq3))\n",
        "print(len(rank3))\n",
        "\n",
        "for i in range(0,10):\n",
        "  print(rank3[i], freq3[i])"
      ],
      "execution_count": 12,
      "outputs": [
        {
          "output_type": "stream",
          "text": [
            "3652\n",
            "3652\n",
            "0.0 2\n",
            "2.063761310699587e-17 17\n",
            "2.0639527592290618e-17 1\n",
            "2.065247093712143e-17 1\n",
            "2.06567065325485e-17 1\n",
            "2.0670071672605533e-17 1\n",
            "2.0670608231441286e-17 1\n",
            "2.0676552518619677e-17 1\n",
            "2.0676869269213205e-17 2\n",
            "2.0684135363123983e-17 1\n"
          ],
          "name": "stdout"
        }
      ]
    },
    {
      "cell_type": "code",
      "metadata": {
        "colab_type": "code",
        "id": "mqFZy5OUcQhb",
        "outputId": "094d5804-1455-493d-bd77-2270cd63cd58",
        "colab": {
          "base_uri": "https://localhost:8080/",
          "height": 350
        }
      },
      "source": [
        "plt.figure(figsize=(10,5))\n",
        "plt.scatter(rank3, freq3)\n",
        "plt.plot(rank3,freq3)\n",
        "plt.ylabel('Frequency')\n",
        "plt.xlabel('Authorities Score')\n",
        "plt.title(' Distribution of Authorities Score in Facebook Network(Normal scale)')\n",
        "plt.show()"
      ],
      "execution_count": 13,
      "outputs": [
        {
          "output_type": "display_data",
          "data": {
            "image/png": "[encoded data removed]",
            "text/plain": [
              "<Figure size 720x360 with 1 Axes>"
            ]
          },
          "metadata": {
            "tags": [],
            "needs_background": "light"
          }
        }
      ]
    },
    {
      "cell_type": "code",
      "metadata": {
        "colab_type": "code",
        "id": "hyAilGqHcWmV",
        "outputId": "894f7103-bfd9-4daf-b267-a78cb6ebc01e",
        "colab": {
          "base_uri": "https://localhost:8080/",
          "height": 353
        }
      },
      "source": [
        "plt.figure(figsize=(10,5))\n",
        "plt.scatter(rank3, freq3)\n",
        "plt.plot(rank3,freq3)\n",
        "plt.xscale('log')\n",
        "plt.yscale('log')\n",
        "plt.ylabel('Frequency')\n",
        "plt.xlabel('Authorities Score')\n",
        "plt.title(' Distribution of PageRank Score in Facebook Network(Logarithmic scale)')\n",
        "plt.show()"
      ],
      "execution_count": 14,
      "outputs": [
        {
          "output_type": "display_data",
          "data": {
            "image/png": "[encoded data removed]",
            "text/plain": [
              "<Figure size 720x360 with 1 Axes>"
            ]
          },
          "metadata": {
            "tags": [],
            "needs_background": "light"
          }
        }
      ]
    },
    {
      "cell_type": "markdown",
      "metadata": {
        "colab_type": "text",
        "id": "Czhzf4zYQBGX"
      },
      "source": [
        "# Gnutella P2P Network"
      ]
    },
    {
      "cell_type": "code",
      "metadata": {
        "colab_type": "code",
        "id": "drN1E4QnJYYE",
        "colab": {}
      },
      "source": [
        "df = pd.read_csv('/content/p2p-Gnutella04.txt', sep=\" \")"
      ],
      "execution_count": 0,
      "outputs": []
    },
    {
      "cell_type": "code",
      "metadata": {
        "colab_type": "code",
        "id": "fRegEnPgJuh9",
        "outputId": "b47a2057-ba10-4aef-a1a4-73c97a603928",
        "colab": {
          "base_uri": "https://localhost:8080/",
          "height": 54
        }
      },
      "source": [
        "G = nx.from_pandas_edgelist(df,'src','des',edge_attr=None,create_using=nx.DiGraph())\n",
        "nx.info(G)"
      ],
      "execution_count": 0,
      "outputs": [
        {
          "output_type": "execute_result",
          "data": {
            "text/plain": [
              "'Name: \\nType: DiGraph\\nNumber of nodes: 10876\\nNumber of edges: 39994\\nAverage in degree:   3.6773\\nAverage out degree:   3.6773'"
            ]
          },
          "metadata": {
            "tags": []
          },
          "execution_count": 87
        }
      ]
    },
    {
      "cell_type": "markdown",
      "metadata": {
        "colab_type": "text",
        "id": "g6SgoXV0K5kv"
      },
      "source": [
        "**Calculating PageRank**"
      ]
    },
    {
      "cell_type": "code",
      "metadata": {
        "colab_type": "code",
        "id": "MoHAq6UiJvPM",
        "colab": {}
      },
      "source": [
        "pagerank = nx.pagerank(G)"
      ],
      "execution_count": 0,
      "outputs": []
    },
    {
      "cell_type": "markdown",
      "metadata": {
        "colab_type": "text",
        "id": "MZtC6zEiLB7v"
      },
      "source": [
        "**Finding Max and Min PageRank**"
      ]
    },
    {
      "cell_type": "code",
      "metadata": {
        "colab_type": "code",
        "id": "b5p8E2j3J5i4",
        "outputId": "7e2ecd2f-b002-4636-fcba-b2c33d808b0e",
        "colab": {
          "base_uri": "https://localhost:8080/",
          "height": 51
        }
      },
      "source": [
        "maxScore = max(pagerank.values())\n",
        "minScore = min(pagerank.values())\n",
        "print(\"Max PageRank Score = \",maxScore)\n",
        "print(\"Min PageRank Score = \",minScore) "
      ],
      "execution_count": 0,
      "outputs": [
        {
          "output_type": "stream",
          "text": [
            "Max PageRank Score =  0.0006711727183638689\n",
            "Min PageRank Score =  5.499573860784478e-05\n"
          ],
          "name": "stdout"
        }
      ]
    },
    {
      "cell_type": "markdown",
      "metadata": {
        "id": "e_ZrwHhQ7CTm",
        "colab_type": "text"
      },
      "source": [
        "**Plotting the PageRank Distribution**"
      ]
    },
    {
      "cell_type": "code",
      "metadata": {
        "colab_type": "code",
        "id": "_56vDMvIeImR",
        "outputId": "6496c655-b14d-4be3-ce41-a570fafc9eab",
        "colab": {
          "base_uri": "https://localhost:8080/",
          "height": 71
        }
      },
      "source": [
        "print(len(pagerank))\n",
        "nodeid = []\n",
        "noderank = []\n",
        "for x in pagerank:\n",
        "  nodeid.append(x);\n",
        "  noderank.append((pagerank[x]))\n",
        "  # print(x, round(pagerank[x], 5))\n",
        "noderank.sort();\n",
        "print(noderank[:20])"
      ],
      "execution_count": 0,
      "outputs": [
        {
          "output_type": "stream",
          "text": [
            "10876\n",
            "[5.499573860784478e-05, 5.499573860784478e-05, 5.499573860784478e-05, 5.499573860784478e-05, 5.499573860784478e-05, 5.499573860784478e-05, 5.499573860784478e-05, 5.499573860784478e-05, 5.499573860784478e-05, 5.499573860784478e-05, 5.499573860784478e-05, 5.499573860784478e-05, 5.499573860784478e-05, 5.499573860784478e-05, 5.499573860784478e-05, 5.499573860784478e-05, 5.499573860784478e-05, 5.499573860784478e-05, 5.499573860784478e-05, 5.499573860784478e-05]\n"
          ],
          "name": "stdout"
        }
      ]
    },
    {
      "cell_type": "code",
      "metadata": {
        "colab_type": "code",
        "id": "TZqjZkh_eSgu",
        "outputId": "847ac064-3ede-4d5f-8b48-7ecd583c5622",
        "colab": {
          "base_uri": "https://localhost:8080/",
          "height": 221
        }
      },
      "source": [
        "n = len(noderank)\n",
        "rank = []\n",
        "freq = []\n",
        "count = 1;\n",
        "rank.append(noderank[0])\n",
        "freq.append(1)\n",
        "\n",
        "j=0;\n",
        "for i in range(1,n):\n",
        "  if noderank[i-1] == noderank[i]:\n",
        "    freq[j] += 1\n",
        "  else:\n",
        "    freq.append(1)\n",
        "    rank.append(noderank[i])\n",
        "    j += 1\n",
        "\n",
        "print(len(freq))\n",
        "print(len(rank))\n",
        "\n",
        "for i in range(0,10):\n",
        "  print(rank[i], freq[i])"
      ],
      "execution_count": 0,
      "outputs": [
        {
          "output_type": "stream",
          "text": [
            "9198\n",
            "9198\n",
            "5.499573860784478e-05 20\n",
            "5.586905618215114e-05 5\n",
            "5.6257556761172295e-05 4\n",
            "5.635780839904405e-05 4\n",
            "5.6413201311580155e-05 4\n",
            "5.6608802832951605e-05 3\n",
            "5.668213382249702e-05 2\n",
            "5.6692389849512764e-05 26\n",
            "5.68343460488855e-05 5\n",
            "5.696450848123248e-05 1\n"
          ],
          "name": "stdout"
        }
      ]
    },
    {
      "cell_type": "code",
      "metadata": {
        "colab_type": "code",
        "id": "dg1nvh5veaxj",
        "outputId": "8058da90-57cd-42de-e7c7-0236c742ac3e",
        "colab": {
          "base_uri": "https://localhost:8080/",
          "height": 350
        }
      },
      "source": [
        "plt.figure(figsize=(10,5))\n",
        "plt.plot(rank,freq)\n",
        "plt.ylabel('Frequency')\n",
        "plt.xlabel('Pagerank Score')\n",
        "plt.title(' Distribution of PageRank Score in Gnutella Network(Normal scale)')\n",
        "plt.show()"
      ],
      "execution_count": 0,
      "outputs": [
        {
          "output_type": "display_data",
          "data": {
            "image/png": "[encoded data removed]",
            "text/plain": [
              "<Figure size 720x360 with 1 Axes>"
            ]
          },
          "metadata": {
            "tags": [],
            "needs_background": "light"
          }
        }
      ]
    },
    {
      "cell_type": "code",
      "metadata": {
        "colab_type": "code",
        "id": "dKv3iDeZee6_",
        "outputId": "a208dc22-a283-4dc2-d9c1-c2125cb965f0",
        "colab": {
          "base_uri": "https://localhost:8080/",
          "height": 353
        }
      },
      "source": [
        "plt.figure(figsize=(10,5))\n",
        "plt.plot(rank,freq)\n",
        "plt.xscale('log')\n",
        "plt.yscale('log')\n",
        "plt.ylabel('Frequency')\n",
        "plt.xlabel('Pagerank Score')\n",
        "plt.title(' Distribution of PageRank Score in Gnutella Network(Logarithmic scale)')\n",
        "plt.show()"
      ],
      "execution_count": 0,
      "outputs": [
        {
          "output_type": "display_data",
          "data": {
            "image/png": "[encoded data removed]",
            "text/plain": [
              "<Figure size 720x360 with 1 Axes>"
            ]
          },
          "metadata": {
            "tags": [],
            "needs_background": "light"
          }
        }
      ]
    },
    {
      "cell_type": "markdown",
      "metadata": {
        "colab_type": "text",
        "id": "5Pk9nwOcLP_0"
      },
      "source": [
        "**Calculating HITS score**"
      ]
    },
    {
      "cell_type": "code",
      "metadata": {
        "colab_type": "code",
        "id": "FszBKGJoKDwF",
        "colab": {}
      },
      "source": [
        "hits, authorities = nx.hits(G)"
      ],
      "execution_count": 0,
      "outputs": []
    },
    {
      "cell_type": "markdown",
      "metadata": {
        "colab_type": "text",
        "id": "eXXUp_FqLbSl"
      },
      "source": [
        "**Finding Max and Min HITS Scores**"
      ]
    },
    {
      "cell_type": "code",
      "metadata": {
        "colab_type": "code",
        "id": "azwOXuHIKYFy",
        "outputId": "15802e77-2773-4376-e711-4a232f3a6b1d",
        "colab": {
          "base_uri": "https://localhost:8080/",
          "height": 85
        }
      },
      "source": [
        "maxHitsScore = max(hits.values())\n",
        "minHitsScore = min(hits.values())\n",
        "print(\"Max Hits Score = \",maxHitsScore)\n",
        "print(\"Min Hits Score = \",minHitsScore) \n",
        "\n",
        "maxAuthoritiesScore = max(authorities.values())\n",
        "minAuthoritiesScore = min(authorities.values())\n",
        "print(\"Max Authorities Score = \",maxAuthoritiesScore)\n",
        "print(\"Min Authorities Score = \",minAuthoritiesScore) "
      ],
      "execution_count": 0,
      "outputs": [
        {
          "output_type": "stream",
          "text": [
            "Max Hits Score =  0.005167046979475104\n",
            "Min Hits Score =  0.0\n",
            "Max Authorities Score =  0.021553778629464077\n",
            "Min Authorities Score =  0.0\n"
          ],
          "name": "stdout"
        }
      ]
    },
    {
      "cell_type": "markdown",
      "metadata": {
        "id": "dvu1fp8W7CUb",
        "colab_type": "text"
      },
      "source": [
        "**Plotting the HITS Score Distribution**"
      ]
    },
    {
      "cell_type": "code",
      "metadata": {
        "colab_type": "code",
        "id": "CbakHhPTfAMz",
        "outputId": "2d0130e4-2404-44fb-bed5-22498fb5e471",
        "colab": {
          "base_uri": "https://localhost:8080/",
          "height": 51
        }
      },
      "source": [
        "print(len(hits))\n",
        "nodeid = []\n",
        "noderank = []\n",
        "for x in hits:\n",
        "  nodeid.append(x);\n",
        "  noderank.append((hits[x]))\n",
        "noderank.sort();\n",
        "print(noderank[:20])"
      ],
      "execution_count": 0,
      "outputs": [
        {
          "output_type": "stream",
          "text": [
            "10876\n",
            "[0.0, 0.0, 0.0, 0.0, 0.0, 0.0, 0.0, 0.0, 0.0, 0.0, 0.0, 0.0, 0.0, 0.0, 0.0, 0.0, 0.0, 0.0, 0.0, 0.0]\n"
          ],
          "name": "stdout"
        }
      ]
    },
    {
      "cell_type": "code",
      "metadata": {
        "colab_type": "code",
        "id": "rNlFQJQcfPZ6",
        "outputId": "63741cb9-6cfc-4082-96d8-c474033c51e7",
        "colab": {
          "base_uri": "https://localhost:8080/",
          "height": 221
        }
      },
      "source": [
        "n = len(noderank)\n",
        "rank = []\n",
        "freq = []\n",
        "count = 1;\n",
        "rank.append(noderank[0])\n",
        "freq.append(1)\n",
        "\n",
        "j=0;\n",
        "for i in range(1,n):\n",
        "  if noderank[i-1] == noderank[i]:\n",
        "    freq[j] += 1\n",
        "  else:\n",
        "    freq.append(1)\n",
        "    rank.append(noderank[i])\n",
        "    j += 1\n",
        "\n",
        "print(len(freq))\n",
        "print(len(rank))\n",
        "\n",
        "for i in range(0,10):\n",
        "  print(rank[i], freq[i])"
      ],
      "execution_count": 0,
      "outputs": [
        {
          "output_type": "stream",
          "text": [
            "4761\n",
            "4761\n",
            "0.0 5941\n",
            "5.587678817774542e-108 100\n",
            "9.82994853187322e-95 4\n",
            "3.0422217179300917e-68 1\n",
            "5.58767881777454e-64 1\n",
            "8.024776729309481e-09 1\n",
            "1.0867342013774015e-08 1\n",
            "2.158132586717393e-08 1\n",
            "2.2747156449065176e-08 1\n",
            "2.619414230005521e-08 1\n"
          ],
          "name": "stdout"
        }
      ]
    },
    {
      "cell_type": "code",
      "metadata": {
        "colab_type": "code",
        "id": "J_CZwPPmfbov",
        "outputId": "4326de44-ffab-4251-bf90-bb64b4c92aa7",
        "colab": {
          "base_uri": "https://localhost:8080/",
          "height": 350
        }
      },
      "source": [
        "plt.figure(figsize=(10,5))\n",
        "plt.plot(rank,freq)\n",
        "plt.ylabel('Frequency')\n",
        "plt.xlabel('Hits Score')\n",
        "plt.title(' Distribution of Hits Score in Gnutella Network(Normal scale)')\n",
        "plt.show()"
      ],
      "execution_count": 0,
      "outputs": [
        {
          "output_type": "display_data",
          "data": {
            "image/png": "[encoded data removed]",
            "text/plain": [
              "<Figure size 720x360 with 1 Axes>"
            ]
          },
          "metadata": {
            "tags": [],
            "needs_background": "light"
          }
        }
      ]
    },
    {
      "cell_type": "code",
      "metadata": {
        "colab_type": "code",
        "id": "eAt1nWjyfpcu",
        "outputId": "849f5135-d753-4f7d-8ca5-3592ba41fe71",
        "colab": {
          "base_uri": "https://localhost:8080/",
          "height": 353
        }
      },
      "source": [
        "plt.figure(figsize=(10,5))\n",
        "plt.plot(rank,freq)\n",
        "plt.xscale('log')\n",
        "plt.yscale('log')\n",
        "plt.ylabel('Frequency')\n",
        "plt.xlabel('Hits Score')\n",
        "plt.title(' Distribution of Hits Score in Gnutella Network(Logarithmic scale)')\n",
        "plt.show()"
      ],
      "execution_count": 0,
      "outputs": [
        {
          "output_type": "display_data",
          "data": {
            "image/png": "[encoded data removed]",
            "text/plain": [
              "<Figure size 720x360 with 1 Axes>"
            ]
          },
          "metadata": {
            "tags": [],
            "needs_background": "light"
          }
        }
      ]
    },
    {
      "cell_type": "code",
      "metadata": {
        "colab_type": "code",
        "id": "pxmu3l6Of0Hy",
        "outputId": "ee03ea9a-ac50-4f77-e9ad-8ffa672a7f61",
        "colab": {
          "base_uri": "https://localhost:8080/",
          "height": 924
        }
      },
      "source": [
        "print(len(authorities))\n",
        "nodeid = []\n",
        "noderank = []\n",
        "for x in authorities:\n",
        "  nodeid.append(x);\n",
        "  noderank.append((authorities[x]))\n",
        "noderank.sort();\n",
        "print(noderank[:20])\n",
        "\n",
        "\n",
        "n = len(noderank)\n",
        "rank = []\n",
        "freq = []\n",
        "count = 1;\n",
        "rank.append(noderank[0])\n",
        "freq.append(1)\n",
        "\n",
        "j=0;\n",
        "for i in range(1,n):\n",
        "  if noderank[i-1] == noderank[i]:\n",
        "    freq[j] += 1\n",
        "  else:\n",
        "    freq.append(1)\n",
        "    rank.append(noderank[i])\n",
        "    j += 1\n",
        "\n",
        "print(len(freq))\n",
        "print(len(rank))\n",
        "\n",
        "for i in range(0,10):\n",
        "  print(rank[i], freq[i])\n",
        "\n",
        "plt.figure(figsize=(10,5))\n",
        "plt.plot(rank,freq)\n",
        "plt.ylabel('Frequency')\n",
        "plt.xlabel('Authorities Score')\n",
        "plt.title(' Distribution of Authorities Score in Gnutella Network(Normal scale)')\n",
        "plt.show()\n",
        "\n",
        "plt.figure(figsize=(10,5))\n",
        "plt.plot(rank,freq)\n",
        "plt.xscale('log')\n",
        "plt.yscale('log')\n",
        "plt.ylabel('Frequency')\n",
        "plt.xlabel('Authorities Score')\n",
        "plt.title(' Distribution of Authorities Score in Gnutella Network(Logarithmic scale)')\n",
        "plt.show()"
      ],
      "execution_count": 0,
      "outputs": [
        {
          "output_type": "stream",
          "text": [
            "10876\n",
            "[0.0, 0.0, 0.0, 0.0, 0.0, 0.0, 0.0, 0.0, 0.0, 0.0, 0.0, 0.0, 0.0, 0.0, 0.0, 0.0, 0.0, 0.0, 0.0, 0.0]\n",
            "9282\n",
            "9282\n",
            "0.0 20\n",
            "1.3244369375922859e-106 100\n",
            "2.3299741010220076e-93 2\n",
            "9.013650719228423e-68 8\n",
            "1.3244369375922854e-63 10\n",
            "1.731069614681326e-08 1\n",
            "1.8562852328483097e-08 1\n",
            "2.05601597272114e-08 3\n",
            "2.8614362273129788e-08 2\n",
            "3.21293606824162e-08 1\n"
          ],
          "name": "stdout"
        },
        {
          "output_type": "display_data",
          "data": {
            "image/png": "[encoded data removed]",
            "text/plain": [
              "<Figure size 720x360 with 1 Axes>"
            ]
          },
          "metadata": {
            "tags": [],
            "needs_background": "light"
          }
        },
        {
          "output_type": "display_data",
          "data": {
            "image/png": "[encoded data removed]",
            "text/plain": [
              "<Figure size 720x360 with 1 Axes>"
            ]
          },
          "metadata": {
            "tags": [],
            "needs_background": "light"
          }
        }
      ]
    },
    {
      "cell_type": "markdown",
      "metadata": {
        "colab_type": "text",
        "id": "uaYOufJGTNNt"
      },
      "source": [
        "# Twitter Network"
      ]
    },
    {
      "cell_type": "code",
      "metadata": {
        "colab_type": "code",
        "id": "Yeb7GhRNTVlm",
        "colab": {}
      },
      "source": [
        "df = pd.read_csv('/content/twitter.txt', sep=\" \")"
      ],
      "execution_count": 0,
      "outputs": []
    },
    {
      "cell_type": "code",
      "metadata": {
        "colab_type": "code",
        "id": "P3R_rxUQTa2f",
        "outputId": "86ea5669-6509-45cc-ee5b-5fb64dcb6ee9",
        "colab": {
          "base_uri": "https://localhost:8080/",
          "height": 54
        }
      },
      "source": [
        "G = nx.from_pandas_edgelist(df,'src','des',edge_attr=None,create_using=nx.DiGraph())\n",
        "nx.info(G)"
      ],
      "execution_count": 0,
      "outputs": [
        {
          "output_type": "execute_result",
          "data": {
            "text/plain": [
              "'Name: \\nType: DiGraph\\nNumber of nodes: 3087\\nNumber of edges: 53405\\nAverage in degree:  17.3000\\nAverage out degree:  17.3000'"
            ]
          },
          "metadata": {
            "tags": []
          },
          "execution_count": 3
        }
      ]
    },
    {
      "cell_type": "markdown",
      "metadata": {
        "colab_type": "text",
        "id": "Q8Z4L8wFTlpo"
      },
      "source": [
        "**Calculating PageRank**"
      ]
    },
    {
      "cell_type": "code",
      "metadata": {
        "colab_type": "code",
        "id": "kKQRo-ZIToXJ",
        "colab": {}
      },
      "source": [
        "pagerank = nx.pagerank(G)"
      ],
      "execution_count": 0,
      "outputs": []
    },
    {
      "cell_type": "markdown",
      "metadata": {
        "colab_type": "text",
        "id": "SRgjGJ45TrBn"
      },
      "source": [
        "**Finding Max and Min PageRank Scores**"
      ]
    },
    {
      "cell_type": "code",
      "metadata": {
        "colab_type": "code",
        "id": "BKsOy4v7Tuap",
        "outputId": "e4cc3cc9-a338-4416-ac7f-b66238f2c042",
        "colab": {
          "base_uri": "https://localhost:8080/",
          "height": 51
        }
      },
      "source": [
        "maxScore = max(pagerank.values())\n",
        "minScore = min(pagerank.values())\n",
        "print(\"Max PageRank Score = \",maxScore)\n",
        "print(\"Min PageRank Score = \",minScore) "
      ],
      "execution_count": 0,
      "outputs": [
        {
          "output_type": "stream",
          "text": [
            "Max PageRank Score =  0.007408496105825751\n",
            "Min PageRank Score =  4.689332128677982e-06\n"
          ],
          "name": "stdout"
        }
      ]
    },
    {
      "cell_type": "markdown",
      "metadata": {
        "id": "lR0Hval77CVP",
        "colab_type": "text"
      },
      "source": [
        "**Plotting the PageRank Distribution**"
      ]
    },
    {
      "cell_type": "code",
      "metadata": {
        "colab_type": "code",
        "id": "5ixtVZMPic-6",
        "outputId": "c5892aa4-d371-4184-9f27-63273dc339f0",
        "colab": {
          "base_uri": "https://localhost:8080/",
          "height": 944
        }
      },
      "source": [
        "print(len(pagerank))\n",
        "nodeid = []\n",
        "noderank = []\n",
        "for x in pagerank:\n",
        "  nodeid.append(x);\n",
        "  noderank.append((pagerank[x]))\n",
        "  # print(x, round(pagerank[x], 5))\n",
        "noderank.sort();\n",
        "print(noderank[:20])\n",
        "\n",
        "\n",
        "n = len(noderank)\n",
        "rank = []\n",
        "freq = []\n",
        "count = 1;\n",
        "rank.append(noderank[0])\n",
        "freq.append(1)\n",
        "\n",
        "j=0;\n",
        "for i in range(1,n):\n",
        "  if noderank[i-1] == noderank[i]:\n",
        "    freq[j] += 1\n",
        "  else:\n",
        "    freq.append(1)\n",
        "    rank.append(noderank[i])\n",
        "    j += 1\n",
        "\n",
        "print(len(freq))\n",
        "print(len(rank))\n",
        "\n",
        "for i in range(0,10):\n",
        "  print(rank[i], freq[i])\n",
        "\n",
        "plt.figure(figsize=(10,5))\n",
        "plt.plot(rank,freq)\n",
        "plt.ylabel('Frequency')\n",
        "plt.xlabel('Pagerank Score')\n",
        "plt.title(' Distribution of PageRank Score in Twitter Network(Normal scale)')\n",
        "plt.show()\n",
        "\n",
        "plt.figure(figsize=(10,5))\n",
        "plt.plot(rank,freq)\n",
        "plt.xscale('log')\n",
        "plt.yscale('log')\n",
        "plt.ylabel('Frequency')\n",
        "plt.xlabel('Pagerank Score')\n",
        "plt.title(' Distribution of PageRank Score in Twitter Network(Logarithmic scale)')\n",
        "plt.show()"
      ],
      "execution_count": 0,
      "outputs": [
        {
          "output_type": "stream",
          "text": [
            "40651\n",
            "[4.689332128677982e-06, 4.689332128677982e-06, 4.689332128677982e-06, 4.689332128677982e-06, 4.689332128677982e-06, 4.689332128677982e-06, 4.689332128677982e-06, 4.689332128677982e-06, 4.689332128677982e-06, 4.689332128677982e-06, 4.689332128677982e-06, 4.689332128677982e-06, 4.689332128677982e-06, 4.689332128677982e-06, 4.689332128677982e-06, 4.689332128677982e-06, 4.689332128677982e-06, 4.689332128677982e-06, 4.689332128677982e-06, 4.689332128677982e-06]\n",
            "36575\n",
            "36575\n",
            "4.689332128677982e-06 2439\n",
            "4.736978583748427e-06 2\n",
            "4.743089758695491e-06 3\n",
            "4.752916097128358e-06 1\n",
            "4.757722657735161e-06 1\n",
            "4.760885996065345e-06 13\n",
            "4.761883354264461e-06 3\n",
            "4.762821545126614e-06 1\n",
            "4.763336184408897e-06 1\n",
            "4.766947864680877e-06 1\n"
          ],
          "name": "stdout"
        },
        {
          "output_type": "display_data",
          "data": {
            "image/png": "[encoded data removed]",
            "text/plain": [
              "<Figure size 720x360 with 1 Axes>"
            ]
          },
          "metadata": {
            "tags": [],
            "needs_background": "light"
          }
        },
        {
          "output_type": "display_data",
          "data": {
            "image/png": "[encoded data removed]",
            "text/plain": [
              "<Figure size 720x360 with 1 Axes>"
            ]
          },
          "metadata": {
            "tags": [],
            "needs_background": "light"
          }
        }
      ]
    },
    {
      "cell_type": "markdown",
      "metadata": {
        "colab_type": "text",
        "id": "k_11Zq6eT2hm"
      },
      "source": [
        "**Calculating HITS score**"
      ]
    },
    {
      "cell_type": "code",
      "metadata": {
        "colab_type": "code",
        "id": "0FLOXoBLT6Lz",
        "colab": {}
      },
      "source": [
        "hits, authorities = nx.hits(G)"
      ],
      "execution_count": 0,
      "outputs": []
    },
    {
      "cell_type": "markdown",
      "metadata": {
        "colab_type": "text",
        "id": "Pzv7s0fYT-SU"
      },
      "source": [
        "**Finding Max and Min HITS Scores**"
      ]
    },
    {
      "cell_type": "code",
      "metadata": {
        "colab_type": "code",
        "id": "0XqIIVAKT-pO",
        "outputId": "877415c5-12a1-4f46-a279-c3d41baf5ba2",
        "colab": {
          "base_uri": "https://localhost:8080/",
          "height": 86
        }
      },
      "source": [
        "maxHitsScore = max(hits.values())\n",
        "minHitsScore = min(hits.values())\n",
        "print(\"Max Hits Score = \",maxHitsScore)\n",
        "print(\"Min Hits Score = \",minHitsScore) \n",
        "\n",
        "maxAuthoritiesScore = max(authorities.values())\n",
        "minAuthoritiesScore = min(authorities.values())\n",
        "print(\"Max Authorities Score = \",maxAuthoritiesScore)\n",
        "print(\"Min Authorities Score = \",minAuthoritiesScore) "
      ],
      "execution_count": 0,
      "outputs": [
        {
          "output_type": "stream",
          "text": [
            "Max Hits Score =  0.010907823237657264\n",
            "Min Hits Score =  0.0\n",
            "Max Authorities Score =  0.01668608174631693\n",
            "Min Authorities Score =  0.0\n"
          ],
          "name": "stdout"
        }
      ]
    },
    {
      "cell_type": "markdown",
      "metadata": {
        "id": "yxX1Imkm7CVg",
        "colab_type": "text"
      },
      "source": [
        "**Plotting HITS Score Distribution**"
      ]
    },
    {
      "cell_type": "code",
      "metadata": {
        "colab_type": "code",
        "id": "EFduf-VWjrlL",
        "outputId": "67953897-aaa3-4492-9bfa-053d8fe46263",
        "colab": {
          "base_uri": "https://localhost:8080/",
          "height": 929
        }
      },
      "source": [
        "print(len(hits))\n",
        "nodeid = []\n",
        "noderank = []\n",
        "for x in hits:\n",
        "  nodeid.append(x);\n",
        "  noderank.append((hits[x]))\n",
        "noderank.sort();\n",
        "print(noderank[:20])\n",
        "\n",
        "\n",
        "n = len(noderank)\n",
        "rank = []\n",
        "freq = []\n",
        "count = 1;\n",
        "rank.append(noderank[0])\n",
        "freq.append(1)\n",
        "\n",
        "j=0;\n",
        "for i in range(1,n):\n",
        "  if noderank[i-1] == noderank[i]:\n",
        "    freq[j] += 1\n",
        "  else:\n",
        "    freq.append(1)\n",
        "    rank.append(noderank[i])\n",
        "    j += 1\n",
        "\n",
        "print(len(freq))\n",
        "print(len(rank))\n",
        "\n",
        "for i in range(0,10):\n",
        "  print(rank[i], freq[i])\n",
        "\n",
        "plt.figure(figsize=(10,5))\n",
        "plt.plot(rank,freq)\n",
        "plt.ylabel('Frequency')\n",
        "plt.xlabel('Hits Score')\n",
        "plt.title(' Distribution of Hits Score in Twitter Network(Normal scale)')\n",
        "plt.show()\n",
        "\n",
        "plt.figure(figsize=(10,5))\n",
        "plt.plot(rank,freq)\n",
        "plt.xscale('log')\n",
        "plt.yscale('log')\n",
        "plt.ylabel('Frequency')\n",
        "plt.xlabel('Hits Score')\n",
        "plt.title(' Distribution of Hits Score in Twitter Network(Logarithmic scale)')\n",
        "plt.show()"
      ],
      "execution_count": 0,
      "outputs": [
        {
          "output_type": "stream",
          "text": [
            "3087\n",
            "[0.0, 0.0, 0.0, 0.0, 0.0, 0.0, 0.0, 0.0, 0.0, 0.0, 0.0, 0.0, 0.0, 0.0, 0.0, 0.0, 0.0, 0.0, 0.0, 0.0]\n",
            "2804\n",
            "2804\n",
            "0.0 240\n",
            "7.66577037094e-312 11\n",
            "8.705037700794183e-232 1\n",
            "1.852042484452984e-231 1\n",
            "2.4863135796608503e-231 2\n",
            "3.543787769966148e-138 2\n",
            "9.653846544719684e-138 1\n",
            "1.0989607982098004e-137 1\n",
            "3.710173420253556e-137 1\n",
            "4.2181378603481717e-137 1\n"
          ],
          "name": "stdout"
        },
        {
          "output_type": "display_data",
          "data": {
            "image/png": "[encoded data removed]",
            "text/plain": [
              "<Figure size 720x360 with 1 Axes>"
            ]
          },
          "metadata": {
            "tags": [],
            "needs_background": "light"
          }
        },
        {
          "output_type": "display_data",
          "data": {
            "image/png": "[encoded data removed]",
            "text/plain": [
              "<Figure size 720x360 with 1 Axes>"
            ]
          },
          "metadata": {
            "tags": [],
            "needs_background": "light"
          }
        }
      ]
    },
    {
      "cell_type": "code",
      "metadata": {
        "colab_type": "code",
        "id": "yQZkm728j79Q",
        "outputId": "ef95d6ca-ed2d-40e2-b27d-6992b4fe25d0",
        "colab": {
          "base_uri": "https://localhost:8080/",
          "height": 929
        }
      },
      "source": [
        "print(len(authorities))\n",
        "nodeid = []\n",
        "noderank = []\n",
        "for x in authorities:\n",
        "  nodeid.append(x);\n",
        "  noderank.append((authorities[x]))\n",
        "noderank.sort();\n",
        "print(noderank[:20])\n",
        "\n",
        "\n",
        "n = len(noderank)\n",
        "rank = []\n",
        "freq = []\n",
        "count = 1;\n",
        "rank.append(noderank[0])\n",
        "freq.append(1)\n",
        "\n",
        "j=0;\n",
        "for i in range(1,n):\n",
        "  if noderank[i-1] == noderank[i]:\n",
        "    freq[j] += 1\n",
        "  else:\n",
        "    freq.append(1)\n",
        "    rank.append(noderank[i])\n",
        "    j += 1\n",
        "\n",
        "print(len(freq))\n",
        "print(len(rank))\n",
        "\n",
        "for i in range(0,10):\n",
        "  print(rank[i], freq[i])\n",
        "\n",
        "plt.figure(figsize=(10,5))\n",
        "plt.plot(rank,freq)\n",
        "plt.ylabel('Frequency')\n",
        "plt.xlabel('Authorities Score')\n",
        "plt.title(' Distribution of Authorities Score in Twitter Network(Normal scale)')\n",
        "plt.show()\n",
        "\n",
        "plt.figure(figsize=(10,5))\n",
        "plt.plot(rank,freq)\n",
        "plt.xscale('log')\n",
        "plt.yscale('log')\n",
        "plt.ylabel('Frequency')\n",
        "plt.xlabel('Authorities Score')\n",
        "plt.title(' Distribution of Authorities Score in Twitter Network(Logarithmic scale)')\n",
        "plt.show()"
      ],
      "execution_count": 0,
      "outputs": [
        {
          "output_type": "stream",
          "text": [
            "3087\n",
            "[0.0, 0.0, 0.0, 0.0, 0.0, 0.0, 0.0, 0.0, 0.0, 0.0, 0.0, 0.0, 0.0, 0.0, 0.0, 0.0, 0.0, 0.0, 0.0, 0.0]\n",
            "2865\n",
            "2865\n",
            "0.0 150\n",
            "5.63302596993513e-310 11\n",
            "3.6063127389784133e-230 2\n",
            "4.13355851982493e-230 2\n",
            "6.396709145333511e-230 1\n",
            "1.5338963417798536e-136 1\n",
            "2.604075986390661e-136 1\n",
            "3.1000721954387227e-136 1\n",
            "3.248449618589437e-136 1\n",
            "3.7692836199106385e-136 1\n"
          ],
          "name": "stdout"
        },
        {
          "output_type": "display_data",
          "data": {
            "image/png": "[encoded data removed]",
            "text/plain": [
              "<Figure size 720x360 with 1 Axes>"
            ]
          },
          "metadata": {
            "tags": [],
            "needs_background": "light"
          }
        },
        {
          "output_type": "display_data",
          "data": {
            "image/png": "[encoded data removed]",
            "text/plain": [
              "<Figure size 720x360 with 1 Axes>"
            ]
          },
          "metadata": {
            "tags": [],
            "needs_background": "light"
          }
        }
      ]
    }
  ]
}