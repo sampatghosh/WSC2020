{
  "nbformat": 4,
  "nbformat_minor": 0,
  "metadata": {
    "colab": {
      "name": "Assignment3_2_1.ipynb",
      "provenance": []
    },
    "kernelspec": {
      "name": "python3",
      "display_name": "Python 3"
    }
  },
  "cells": [
    {
      "cell_type": "code",
      "metadata": {
        "id": "r4F20GSkJRpF",
        "colab_type": "code",
        "colab": {}
      },
      "source": [
        "import pandas as pd\n",
        "import networkx as nx\n",
        "import matplotlib\n",
        "matplotlib.use('Agg')\n",
        "import matplotlib.pyplot as plt\n",
        "from collections import Counter"
      ],
      "execution_count": 0,
      "outputs": []
    },
    {
      "cell_type": "code",
      "metadata": {
        "id": "drN1E4QnJYYE",
        "colab_type": "code",
        "colab": {}
      },
      "source": [
        "df = pd.read_csv('/content/p2p-Gnutella04.txt', sep=\" \")"
      ],
      "execution_count": 0,
      "outputs": []
    },
    {
      "cell_type": "code",
      "metadata": {
        "id": "fRegEnPgJuh9",
        "colab_type": "code",
        "outputId": "4fa6034b-ddbf-4967-ddca-f47fae811a08",
        "colab": {
          "base_uri": "https://localhost:8080/",
          "height": 54
        }
      },
      "source": [
        "G = nx.from_pandas_edgelist(df,'src','des',edge_attr=None,create_using=nx.DiGraph())\n",
        "nx.info(G)"
      ],
      "execution_count": 21,
      "outputs": [
        {
          "output_type": "execute_result",
          "data": {
            "text/plain": [
              "'Name: \\nType: DiGraph\\nNumber of nodes: 10876\\nNumber of edges: 39994\\nAverage in degree:   3.6773\\nAverage out degree:   3.6773'"
            ]
          },
          "metadata": {
            "tags": []
          },
          "execution_count": 21
        }
      ]
    },
    {
      "cell_type": "markdown",
      "metadata": {
        "id": "g6SgoXV0K5kv",
        "colab_type": "text"
      },
      "source": [
        "**Calculating PageRank Scores**"
      ]
    },
    {
      "cell_type": "code",
      "metadata": {
        "id": "MoHAq6UiJvPM",
        "colab_type": "code",
        "colab": {}
      },
      "source": [
        "pageRank = nx.pagerank(G)"
      ],
      "execution_count": 0,
      "outputs": []
    },
    {
      "cell_type": "markdown",
      "metadata": {
        "id": "MZtC6zEiLB7v",
        "colab_type": "text"
      },
      "source": [
        "**Plotting the PageRank Scores**"
      ]
    },
    {
      "cell_type": "code",
      "metadata": {
        "id": "b5p8E2j3J5i4",
        "colab_type": "code",
        "outputId": "b622f16e-31fd-4e4c-c233-2c26ae2370c4",
        "colab": {
          "base_uri": "https://localhost:8080/",
          "height": 295
        }
      },
      "source": [
        "lists = Counter(pageRank.values()).most_common()\n",
        "x, y = zip(*lists)\n",
        "plt.plot(x,y)\n",
        "plt.ylabel('Number of Nodes')\n",
        "plt.xlabel('PageRank Score')\n",
        "plt.title('PageRank Score Distribution of Gnutella P2P network Dataset')\n",
        "plt.show() "
      ],
      "execution_count": 23,
      "outputs": [
        {
          "output_type": "display_data",
          "data": {
            "image/png": "[encoded data removed]",
            "text/plain": [
              "<Figure size 432x288 with 1 Axes>"
            ]
          },
          "metadata": {
            "tags": [],
            "needs_background": "light"
          }
        }
      ]
    },
    {
      "cell_type": "markdown",
      "metadata": {
        "id": "5Pk9nwOcLP_0",
        "colab_type": "text"
      },
      "source": [
        "**Calculating HITS score**"
      ]
    },
    {
      "cell_type": "code",
      "metadata": {
        "id": "FszBKGJoKDwF",
        "colab_type": "code",
        "colab": {}
      },
      "source": [
        "hits, authorities = nx.hits(G)"
      ],
      "execution_count": 0,
      "outputs": []
    },
    {
      "cell_type": "markdown",
      "metadata": {
        "id": "eXXUp_FqLbSl",
        "colab_type": "text"
      },
      "source": [
        "**Plotting the HITS Score**"
      ]
    },
    {
      "cell_type": "code",
      "metadata": {
        "id": "azwOXuHIKYFy",
        "colab_type": "code",
        "outputId": "7a8a87cd-799e-4ec8-c3a0-85615b789aa1",
        "colab": {
          "base_uri": "https://localhost:8080/",
          "height": 295
        }
      },
      "source": [
        "lists = Counter(hits.values()).most_common()\n",
        "x, y = zip(*lists)\n",
        "plt.plot(x,y)\n",
        "plt.ylabel('Number of Nodes')\n",
        "plt.xlabel('Hits Score')\n",
        "plt.title('Hits Score Distribution of Gnutella P2P Network')\n",
        "plt.show() "
      ],
      "execution_count": 25,
      "outputs": [
        {
          "output_type": "display_data",
          "data": {
            "image/png": "[encoded data removed]",
            "text/plain": [
              "<Figure size 432x288 with 1 Axes>"
            ]
          },
          "metadata": {
            "tags": [],
            "needs_background": "light"
          }
        }
      ]
    },
    {
      "cell_type": "code",
      "metadata": {
        "id": "cZKdjsAzKqK7",
        "colab_type": "code",
        "outputId": "554010be-7ac9-45f9-a0ca-dbfabdb3ba9f",
        "colab": {
          "base_uri": "https://localhost:8080/",
          "height": 295
        }
      },
      "source": [
        "lists = Counter(authorities.values()).most_common()\n",
        "x, y = zip(*lists)\n",
        "plt.plot(x,y)\n",
        "plt.ylabel('Number of Nodes')\n",
        "plt.xlabel('Authorities Score')\n",
        "plt.title('Authorities Score Distribution of Gnutella P2P Network')\n",
        "plt.show() "
      ],
      "execution_count": 26,
      "outputs": [
        {
          "output_type": "display_data",
          "data": {
            "image/png": "[encoded data removed]",
            "text/plain": [
              "<Figure size 432x288 with 1 Axes>"
            ]
          },
          "metadata": {
            "tags": [],
            "needs_background": "light"
          }
        }
      ]
    }
  ]
}