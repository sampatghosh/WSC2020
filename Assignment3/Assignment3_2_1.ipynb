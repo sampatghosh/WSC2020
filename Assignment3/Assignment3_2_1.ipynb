{
 "cells": [
  {
   "cell_type": "code",
   "execution_count": 0,
   "metadata": {
    "colab": {},
    "colab_type": "code",
    "id": "r4F20GSkJRpF"
   },
   "outputs": [],
   "source": [
    "import pandas as pd\n",
    "import networkx as nx\n",
    "import matplotlib\n",
    "matplotlib.use('Agg')\n",
    "import matplotlib.pyplot as plt"
   ]
  },
  {
   "cell_type": "markdown",
   "metadata": {
    "colab_type": "text",
    "id": "Czhzf4zYQBGX"
   },
   "source": [
    "# Gnutella P2P Network"
   ]
  },
  {
   "cell_type": "code",
   "execution_count": 0,
   "metadata": {
    "colab": {},
    "colab_type": "code",
    "id": "drN1E4QnJYYE"
   },
   "outputs": [],
   "source": [
    "df = pd.read_csv('/content/p2p-Gnutella04.txt', sep=\" \")"
   ]
  },
  {
   "cell_type": "code",
   "execution_count": 0,
   "metadata": {
    "colab": {
     "base_uri": "https://localhost:8080/",
     "height": 54
    },
    "colab_type": "code",
    "id": "fRegEnPgJuh9",
    "outputId": "b47a2057-ba10-4aef-a1a4-73c97a603928"
   },
   "outputs": [
    {
     "data": {
      "text/plain": [
       "'Name: \\nType: DiGraph\\nNumber of nodes: 10876\\nNumber of edges: 39994\\nAverage in degree:   3.6773\\nAverage out degree:   3.6773'"
      ]
     },
     "execution_count": 87,
     "metadata": {
      "tags": []
     },
     "output_type": "execute_result"
    }
   ],
   "source": [
    "G = nx.from_pandas_edgelist(df,'src','des',edge_attr=None,create_using=nx.DiGraph())\n",
    "nx.info(G)"
   ]
  },
  {
   "cell_type": "markdown",
   "metadata": {
    "colab_type": "text",
    "id": "g6SgoXV0K5kv"
   },
   "source": [
    "**Calculating PageRank**"
   ]
  },
  {
   "cell_type": "code",
   "execution_count": 0,
   "metadata": {
    "colab": {},
    "colab_type": "code",
    "id": "MoHAq6UiJvPM"
   },
   "outputs": [],
   "source": [
    "pagerank = nx.pagerank(G)"
   ]
  },
  {
   "cell_type": "markdown",
   "metadata": {
    "colab_type": "text",
    "id": "MZtC6zEiLB7v"
   },
   "source": [
    "**Finding Max and Min PageRank Scores**"
   ]
  },
  {
   "cell_type": "code",
   "execution_count": 0,
   "metadata": {
    "colab": {
     "base_uri": "https://localhost:8080/",
     "height": 51
    },
    "colab_type": "code",
    "id": "b5p8E2j3J5i4",
    "outputId": "7e2ecd2f-b002-4636-fcba-b2c33d808b0e"
   },
   "outputs": [
    {
     "name": "stdout",
     "output_type": "stream",
     "text": [
      "Max PageRank Score =  0.0006711727183638689\n",
      "Min PageRank Score =  5.499573860784478e-05\n"
     ]
    }
   ],
   "source": [
    "maxScore = max(pagerank.values())\n",
    "minScore = min(pagerank.values())\n",
    "print(\"Max PageRank Score = \",maxScore)\n",
    "print(\"Min PageRank Score = \",minScore) "
   ]
  },
  {
   "cell_type": "markdown",
   "metadata": {},
   "source": [
    "**Plotting the PageRank Distribution**"
   ]
  },
  {
   "cell_type": "code",
   "execution_count": 0,
   "metadata": {
    "colab": {
     "base_uri": "https://localhost:8080/",
     "height": 71
    },
    "colab_type": "code",
    "id": "_56vDMvIeImR",
    "outputId": "6496c655-b14d-4be3-ce41-a570fafc9eab"
   },
   "outputs": [
    {
     "name": "stdout",
     "output_type": "stream",
     "text": [
      "10876\n",
      "[5.499573860784478e-05, 5.499573860784478e-05, 5.499573860784478e-05, 5.499573860784478e-05, 5.499573860784478e-05, 5.499573860784478e-05, 5.499573860784478e-05, 5.499573860784478e-05, 5.499573860784478e-05, 5.499573860784478e-05, 5.499573860784478e-05, 5.499573860784478e-05, 5.499573860784478e-05, 5.499573860784478e-05, 5.499573860784478e-05, 5.499573860784478e-05, 5.499573860784478e-05, 5.499573860784478e-05, 5.499573860784478e-05, 5.499573860784478e-05]\n"
     ]
    }
   ],
   "source": [
    "print(len(pagerank))\n",
    "nodeid = []\n",
    "noderank = []\n",
    "for x in pagerank:\n",
    "  nodeid.append(x);\n",
    "  noderank.append((pagerank[x]))\n",
    "  # print(x, round(pagerank[x], 5))\n",
    "noderank.sort();\n",
    "print(noderank[:20])"
   ]
  },
  {
   "cell_type": "code",
   "execution_count": 0,
   "metadata": {
    "colab": {
     "base_uri": "https://localhost:8080/",
     "height": 221
    },
    "colab_type": "code",
    "id": "TZqjZkh_eSgu",
    "outputId": "847ac064-3ede-4d5f-8b48-7ecd583c5622"
   },
   "outputs": [
    {
     "name": "stdout",
     "output_type": "stream",
     "text": [
      "9198\n",
      "9198\n",
      "5.499573860784478e-05 20\n",
      "5.586905618215114e-05 5\n",
      "5.6257556761172295e-05 4\n",
      "5.635780839904405e-05 4\n",
      "5.6413201311580155e-05 4\n",
      "5.6608802832951605e-05 3\n",
      "5.668213382249702e-05 2\n",
      "5.6692389849512764e-05 26\n",
      "5.68343460488855e-05 5\n",
      "5.696450848123248e-05 1\n"
     ]
    }
   ],
   "source": [
    "n = len(noderank)\n",
    "rank = []\n",
    "freq = []\n",
    "count = 1;\n",
    "rank.append(noderank[0])\n",
    "freq.append(1)\n",
    "\n",
    "j=0;\n",
    "for i in range(1,n):\n",
    "  if noderank[i-1] == noderank[i]:\n",
    "    freq[j] += 1\n",
    "  else:\n",
    "    freq.append(1)\n",
    "    rank.append(noderank[i])\n",
    "    j += 1\n",
    "\n",
    "print(len(freq))\n",
    "print(len(rank))\n",
    "\n",
    "for i in range(0,10):\n",
    "  print(rank[i], freq[i])"
   ]
  },
  {
   "cell_type": "code",
   "execution_count": 0,
   "metadata": {
    "colab": {
     "base_uri": "https://localhost:8080/",
     "height": 350
    },
    "colab_type": "code",
    "id": "dg1nvh5veaxj",
    "outputId": "8058da90-57cd-42de-e7c7-0236c742ac3e"
   },
   "outputs": [
    {
     "data": {
      "image/png": "[encoded data removed]",
      "text/plain": [
       "<Figure size 720x360 with 1 Axes>"
      ]
     },
     "metadata": {
      "needs_background": "light",
      "tags": []
     },
     "output_type": "display_data"
    }
   ],
   "source": [
    "plt.figure(figsize=(10,5))\n",
    "plt.plot(rank,freq)\n",
    "plt.ylabel('Frequency')\n",
    "plt.xlabel('Pagerank Score')\n",
    "plt.title(' Distribution of PageRank Score in Gnutella Network(Normal scale)')\n",
    "plt.show()"
   ]
  },
  {
   "cell_type": "code",
   "execution_count": 0,
   "metadata": {
    "colab": {
     "base_uri": "https://localhost:8080/",
     "height": 353
    },
    "colab_type": "code",
    "id": "dKv3iDeZee6_",
    "outputId": "a208dc22-a283-4dc2-d9c1-c2125cb965f0"
   },
   "outputs": [
    {
     "data": {
      "image/png": "[encoded data removed]",
      "text/plain": [
       "<Figure size 720x360 with 1 Axes>"
      ]
     },
     "metadata": {
      "needs_background": "light",
      "tags": []
     },
     "output_type": "display_data"
    }
   ],
   "source": [
    "plt.figure(figsize=(10,5))\n",
    "plt.plot(rank,freq)\n",
    "plt.xscale('log')\n",
    "plt.yscale('log')\n",
    "plt.ylabel('Frequency')\n",
    "plt.xlabel('Pagerank Score')\n",
    "plt.title(' Distribution of PageRank Score in Gnutella Network(Logarithmic scale)')\n",
    "plt.show()"
   ]
  },
  {
   "cell_type": "markdown",
   "metadata": {
    "colab_type": "text",
    "id": "5Pk9nwOcLP_0"
   },
   "source": [
    "**Calculating HITS score**"
   ]
  },
  {
   "cell_type": "code",
   "execution_count": 0,
   "metadata": {
    "colab": {},
    "colab_type": "code",
    "id": "FszBKGJoKDwF"
   },
   "outputs": [],
   "source": [
    "hits, authorities = nx.hits(G)"
   ]
  },
  {
   "cell_type": "markdown",
   "metadata": {
    "colab_type": "text",
    "id": "eXXUp_FqLbSl"
   },
   "source": [
    "**Finding Max and Min HITS Scores**"
   ]
  },
  {
   "cell_type": "code",
   "execution_count": 0,
   "metadata": {
    "colab": {
     "base_uri": "https://localhost:8080/",
     "height": 85
    },
    "colab_type": "code",
    "id": "azwOXuHIKYFy",
    "outputId": "15802e77-2773-4376-e711-4a232f3a6b1d"
   },
   "outputs": [
    {
     "name": "stdout",
     "output_type": "stream",
     "text": [
      "Max Hits Score =  0.005167046979475104\n",
      "Min Hits Score =  0.0\n",
      "Max Authorities Score =  0.021553778629464077\n",
      "Min Authorities Score =  0.0\n"
     ]
    }
   ],
   "source": [
    "maxHitsScore = max(hits.values())\n",
    "minHitsScore = min(hits.values())\n",
    "print(\"Max Hits Score = \",maxHitsScore)\n",
    "print(\"Min Hits Score = \",minHitsScore) \n",
    "\n",
    "maxAuthoritiesScore = max(authorities.values())\n",
    "minAuthoritiesScore = min(authorities.values())\n",
    "print(\"Max Authorities Score = \",maxAuthoritiesScore)\n",
    "print(\"Min Authorities Score = \",minAuthoritiesScore) "
   ]
  },
  {
   "cell_type": "markdown",
   "metadata": {},
   "source": [
    "**Plotting the HITS Score Distribution**"
   ]
  },
  {
   "cell_type": "code",
   "execution_count": 0,
   "metadata": {
    "colab": {
     "base_uri": "https://localhost:8080/",
     "height": 51
    },
    "colab_type": "code",
    "id": "CbakHhPTfAMz",
    "outputId": "2d0130e4-2404-44fb-bed5-22498fb5e471"
   },
   "outputs": [
    {
     "name": "stdout",
     "output_type": "stream",
     "text": [
      "10876\n",
      "[0.0, 0.0, 0.0, 0.0, 0.0, 0.0, 0.0, 0.0, 0.0, 0.0, 0.0, 0.0, 0.0, 0.0, 0.0, 0.0, 0.0, 0.0, 0.0, 0.0]\n"
     ]
    }
   ],
   "source": [
    "print(len(hits))\n",
    "nodeid = []\n",
    "noderank = []\n",
    "for x in hits:\n",
    "  nodeid.append(x);\n",
    "  noderank.append((hits[x]))\n",
    "noderank.sort();\n",
    "print(noderank[:20])"
   ]
  },
  {
   "cell_type": "code",
   "execution_count": 0,
   "metadata": {
    "colab": {
     "base_uri": "https://localhost:8080/",
     "height": 221
    },
    "colab_type": "code",
    "id": "rNlFQJQcfPZ6",
    "outputId": "63741cb9-6cfc-4082-96d8-c474033c51e7"
   },
   "outputs": [
    {
     "name": "stdout",
     "output_type": "stream",
     "text": [
      "4761\n",
      "4761\n",
      "0.0 5941\n",
      "5.587678817774542e-108 100\n",
      "9.82994853187322e-95 4\n",
      "3.0422217179300917e-68 1\n",
      "5.58767881777454e-64 1\n",
      "8.024776729309481e-09 1\n",
      "1.0867342013774015e-08 1\n",
      "2.158132586717393e-08 1\n",
      "2.2747156449065176e-08 1\n",
      "2.619414230005521e-08 1\n"
     ]
    }
   ],
   "source": [
    "n = len(noderank)\n",
    "rank = []\n",
    "freq = []\n",
    "count = 1;\n",
    "rank.append(noderank[0])\n",
    "freq.append(1)\n",
    "\n",
    "j=0;\n",
    "for i in range(1,n):\n",
    "  if noderank[i-1] == noderank[i]:\n",
    "    freq[j] += 1\n",
    "  else:\n",
    "    freq.append(1)\n",
    "    rank.append(noderank[i])\n",
    "    j += 1\n",
    "\n",
    "print(len(freq))\n",
    "print(len(rank))\n",
    "\n",
    "for i in range(0,10):\n",
    "  print(rank[i], freq[i])"
   ]
  },
  {
   "cell_type": "code",
   "execution_count": 0,
   "metadata": {
    "colab": {
     "base_uri": "https://localhost:8080/",
     "height": 350
    },
    "colab_type": "code",
    "id": "J_CZwPPmfbov",
    "outputId": "4326de44-ffab-4251-bf90-bb64b4c92aa7"
   },
   "outputs": [
    {
     "data": {
      "image/png": "[encoded data removed]",
      "text/plain": [
       "<Figure size 720x360 with 1 Axes>"
      ]
     },
     "metadata": {
      "needs_background": "light",
      "tags": []
     },
     "output_type": "display_data"
    }
   ],
   "source": [
    "plt.figure(figsize=(10,5))\n",
    "plt.plot(rank,freq)\n",
    "plt.ylabel('Frequency')\n",
    "plt.xlabel('Hits Score')\n",
    "plt.title(' Distribution of Hits Score in Gnutella Network(Normal scale)')\n",
    "plt.show()"
   ]
  },
  {
   "cell_type": "code",
   "execution_count": 0,
   "metadata": {
    "colab": {
     "base_uri": "https://localhost:8080/",
     "height": 353
    },
    "colab_type": "code",
    "id": "eAt1nWjyfpcu",
    "outputId": "849f5135-d753-4f7d-8ca5-3592ba41fe71"
   },
   "outputs": [
    {
     "data": {
      "image/png": "[encoded data removed]",
      "text/plain": [
       "<Figure size 720x360 with 1 Axes>"
      ]
     },
     "metadata": {
      "needs_background": "light",
      "tags": []
     },
     "output_type": "display_data"
    }
   ],
   "source": [
    "plt.figure(figsize=(10,5))\n",
    "plt.plot(rank,freq)\n",
    "plt.xscale('log')\n",
    "plt.yscale('log')\n",
    "plt.ylabel('Frequency')\n",
    "plt.xlabel('Hits Score')\n",
    "plt.title(' Distribution of Hits Score in Gnutella Network(Logarithmic scale)')\n",
    "plt.show()"
   ]
  },
  {
   "cell_type": "code",
   "execution_count": 0,
   "metadata": {
    "colab": {
     "base_uri": "https://localhost:8080/",
     "height": 924
    },
    "colab_type": "code",
    "id": "pxmu3l6Of0Hy",
    "outputId": "ee03ea9a-ac50-4f77-e9ad-8ffa672a7f61"
   },
   "outputs": [
    {
     "name": "stdout",
     "output_type": "stream",
     "text": [
      "10876\n",
      "[0.0, 0.0, 0.0, 0.0, 0.0, 0.0, 0.0, 0.0, 0.0, 0.0, 0.0, 0.0, 0.0, 0.0, 0.0, 0.0, 0.0, 0.0, 0.0, 0.0]\n",
      "9282\n",
      "9282\n",
      "0.0 20\n",
      "1.3244369375922859e-106 100\n",
      "2.3299741010220076e-93 2\n",
      "9.013650719228423e-68 8\n",
      "1.3244369375922854e-63 10\n",
      "1.731069614681326e-08 1\n",
      "1.8562852328483097e-08 1\n",
      "2.05601597272114e-08 3\n",
      "2.8614362273129788e-08 2\n",
      "3.21293606824162e-08 1\n"
     ]
    },
    {
     "data": {
      "image/png": "[encoded data removed]",
      "text/plain": [
       "<Figure size 720x360 with 1 Axes>"
      ]
     },
     "metadata": {
      "needs_background": "light",
      "tags": []
     },
     "output_type": "display_data"
    },
    {
     "data": {
      "image/png": "[encoded data removed]",
      "text/plain": [
       "<Figure size 720x360 with 1 Axes>"
      ]
     },
     "metadata": {
      "needs_background": "light",
      "tags": []
     },
     "output_type": "display_data"
    }
   ],
   "source": [
    "print(len(authorities))\n",
    "nodeid = []\n",
    "noderank = []\n",
    "for x in authorities:\n",
    "  nodeid.append(x);\n",
    "  noderank.append((authorities[x]))\n",
    "noderank.sort();\n",
    "print(noderank[:20])\n",
    "\n",
    "\n",
    "n = len(noderank)\n",
    "rank = []\n",
    "freq = []\n",
    "count = 1;\n",
    "rank.append(noderank[0])\n",
    "freq.append(1)\n",
    "\n",
    "j=0;\n",
    "for i in range(1,n):\n",
    "  if noderank[i-1] == noderank[i]:\n",
    "    freq[j] += 1\n",
    "  else:\n",
    "    freq.append(1)\n",
    "    rank.append(noderank[i])\n",
    "    j += 1\n",
    "\n",
    "print(len(freq))\n",
    "print(len(rank))\n",
    "\n",
    "for i in range(0,10):\n",
    "  print(rank[i], freq[i])\n",
    "\n",
    "plt.figure(figsize=(10,5))\n",
    "plt.plot(rank,freq)\n",
    "plt.ylabel('Frequency')\n",
    "plt.xlabel('Authorities Score')\n",
    "plt.title(' Distribution of Authorities Score in Gnutella Network(Normal scale)')\n",
    "plt.show()\n",
    "\n",
    "plt.figure(figsize=(10,5))\n",
    "plt.plot(rank,freq)\n",
    "plt.xscale('log')\n",
    "plt.yscale('log')\n",
    "plt.ylabel('Frequency')\n",
    "plt.xlabel('Authorities Score')\n",
    "plt.title(' Distribution of Authorities Score in Gnutella Network(Logarithmic scale)')\n",
    "plt.show()"
   ]
  }
 ],
 "metadata": {
  "accelerator": "GPU",
  "colab": {
   "collapsed_sections": [],
   "name": "Assignment3_2_2_2nd.ipynb",
   "provenance": []
  },
  "kernelspec": {
   "display_name": "Python 3",
   "language": "python",
   "name": "python3"
  },
  "language_info": {
   "codemirror_mode": {
    "name": "ipython",
    "version": 3
   },
   "file_extension": ".py",
   "mimetype": "text/x-python",
   "name": "python",
   "nbconvert_exporter": "python",
   "pygments_lexer": "ipython3",
   "version": "3.7.6"
  }
 },
 "nbformat": 4,
 "nbformat_minor": 1
}
