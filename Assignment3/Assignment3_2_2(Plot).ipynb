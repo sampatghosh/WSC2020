{
  "nbformat": 4,
  "nbformat_minor": 0,
  "metadata": {
    "colab": {
      "name": "Assignment3_2_2.ipynb",
      "provenance": [],
      "collapsed_sections": []
    },
    "kernelspec": {
      "name": "python3",
      "display_name": "Python 3"
    }
  },
  "cells": [
    {
      "cell_type": "code",
      "metadata": {
        "id": "r4F20GSkJRpF",
        "colab_type": "code",
        "colab": {}
      },
      "source": [
        "import pandas as pd\n",
        "import networkx as nx\n",
        "import matplotlib\n",
        "matplotlib.use('Agg')\n",
        "import matplotlib.pyplot as plt"
      ],
      "execution_count": 0,
      "outputs": []
    },
    {
      "cell_type": "markdown",
      "metadata": {
        "id": "fKYWnASbQM8Y",
        "colab_type": "text"
      },
      "source": [
        "# Facebook Network"
      ]
    },
    {
      "cell_type": "code",
      "metadata": {
        "id": "RKYaWPX4QQHY",
        "colab_type": "code",
        "colab": {}
      },
      "source": [
        "df = pd.read_csv('/content/facebook.txt', sep=\" \")"
      ],
      "execution_count": 0,
      "outputs": []
    },
    {
      "cell_type": "code",
      "metadata": {
        "id": "tMcKqxUeQW9m",
        "colab_type": "code",
        "colab": {
          "base_uri": "https://localhost:8080/",
          "height": 54
        },
        "outputId": "9a82f4b5-de1f-438b-ff46-2723858bf7b5"
      },
      "source": [
        "G = nx.from_pandas_edgelist(df,'src','des',edge_attr=None,create_using=nx.DiGraph())\n",
        "nx.info(G)"
      ],
      "execution_count": 40,
      "outputs": [
        {
          "output_type": "execute_result",
          "data": {
            "text/plain": [
              "'Name: \\nType: DiGraph\\nNumber of nodes: 4039\\nNumber of edges: 88234\\nAverage in degree:  21.8455\\nAverage out degree:  21.8455'"
            ]
          },
          "metadata": {
            "tags": []
          },
          "execution_count": 40
        }
      ]
    },
    {
      "cell_type": "markdown",
      "metadata": {
        "id": "_KRSI1JpQcrV",
        "colab_type": "text"
      },
      "source": [
        "**Calculating PageRank**"
      ]
    },
    {
      "cell_type": "code",
      "metadata": {
        "id": "G0BhQVevQaW4",
        "colab_type": "code",
        "colab": {}
      },
      "source": [
        "pagerank = nx.pagerank(G)"
      ],
      "execution_count": 0,
      "outputs": []
    },
    {
      "cell_type": "markdown",
      "metadata": {
        "id": "SCuNpwsKYBVX",
        "colab_type": "text"
      },
      "source": [
        "**Plotting the PageRank Scores**"
      ]
    },
    {
      "cell_type": "code",
      "metadata": {
        "id": "eMi9xFhzYByM",
        "colab_type": "code",
        "colab": {
          "base_uri": "https://localhost:8080/",
          "height": 295
        },
        "outputId": "013d2f65-d71a-4b1b-8461-7e65ef00b8b2"
      },
      "source": [
        "lists = sorted(pagerank.items())\n",
        "x, y = zip(*lists)\n",
        "plt.plot(x,y)\n",
        "plt.ylabel('PageRank Score')\n",
        "plt.xlabel('Node ID')\n",
        "plt.title('PageRank Score of Facebook Network')\n",
        "plt.show()"
      ],
      "execution_count": 42,
      "outputs": [
        {
          "output_type": "display_data",
          "data": {
            "image/png": "[encoded data removed]",
            "text/plain": [
              "<Figure size 432x288 with 1 Axes>"
            ]
          },
          "metadata": {
            "tags": [],
            "needs_background": "light"
          }
        }
      ]
    },
    {
      "cell_type": "markdown",
      "metadata": {
        "id": "sMN57-0vQgI7",
        "colab_type": "text"
      },
      "source": [
        "**Finding Max and Min PageRank Scores**"
      ]
    },
    {
      "cell_type": "code",
      "metadata": {
        "id": "LA5WVsGSQhiF",
        "colab_type": "code",
        "colab": {
          "base_uri": "https://localhost:8080/",
          "height": 52
        },
        "outputId": "eefdfc76-48d9-4b8e-e535-40729dbb65e8"
      },
      "source": [
        "maxScore = max(pagerank.values())\n",
        "minScore = min(pagerank.values())\n",
        "print(\"Max PageRank Score = \",maxScore)\n",
        "print(\"Min PageRank Score = \",minScore) "
      ],
      "execution_count": 43,
      "outputs": [
        {
          "output_type": "stream",
          "text": [
            "Max PageRank Score =  0.00940916451585816\n",
            "Min PageRank Score =  7.724494426592372e-05\n"
          ],
          "name": "stdout"
        }
      ]
    },
    {
      "cell_type": "markdown",
      "metadata": {
        "id": "UfzKKu6zSQzK",
        "colab_type": "text"
      },
      "source": [
        "**Calculating HITS score**"
      ]
    },
    {
      "cell_type": "code",
      "metadata": {
        "id": "QEfmslD_SRcP",
        "colab_type": "code",
        "colab": {}
      },
      "source": [
        "hits, authorities = nx.hits(G)"
      ],
      "execution_count": 0,
      "outputs": []
    },
    {
      "cell_type": "markdown",
      "metadata": {
        "id": "VM34dKsaXm_8",
        "colab_type": "text"
      },
      "source": [
        "**Plotting the HITS Score**"
      ]
    },
    {
      "cell_type": "code",
      "metadata": {
        "id": "GvUjpEkxXsMn",
        "colab_type": "code",
        "colab": {
          "base_uri": "https://localhost:8080/",
          "height": 295
        },
        "outputId": "7089d963-47f8-43a6-bf34-4b4dfba1e3e3"
      },
      "source": [
        "lists = sorted(hits.items())\n",
        "x, y = zip(*lists)\n",
        "plt.plot(x,y)\n",
        "plt.ylabel('Hits Score')\n",
        "plt.xlabel('Node ID')\n",
        "plt.title('Hits Score of Facebook Network')\n",
        "plt.show()"
      ],
      "execution_count": 45,
      "outputs": [
        {
          "output_type": "display_data",
          "data": {
            "image/png": "[encoded data removed]",
            "text/plain": [
              "<Figure size 432x288 with 1 Axes>"
            ]
          },
          "metadata": {
            "tags": [],
            "needs_background": "light"
          }
        }
      ]
    },
    {
      "cell_type": "code",
      "metadata": {
        "id": "6riRQvfbX8lc",
        "colab_type": "code",
        "colab": {
          "base_uri": "https://localhost:8080/",
          "height": 295
        },
        "outputId": "c01b3535-dd32-4b9a-9e23-e98c6d543e34"
      },
      "source": [
        "lists = sorted(authorities.items())\n",
        "x, y = zip(*lists)\n",
        "plt.plot(x,y)\n",
        "plt.ylabel('Authorities Score')\n",
        "plt.xlabel('Node ID')\n",
        "plt.title('Authorities Score of Gnutella P2P network Dataset')\n",
        "plt.show()"
      ],
      "execution_count": 46,
      "outputs": [
        {
          "output_type": "display_data",
          "data": {
            "image/png": "[encoded data removed]",
            "text/plain": [
              "<Figure size 432x288 with 1 Axes>"
            ]
          },
          "metadata": {
            "tags": [],
            "needs_background": "light"
          }
        }
      ]
    },
    {
      "cell_type": "markdown",
      "metadata": {
        "id": "Q6Tpc6uSSa5a",
        "colab_type": "text"
      },
      "source": [
        "**Finding Max and Min HITS Scores**"
      ]
    },
    {
      "cell_type": "code",
      "metadata": {
        "id": "bZn7cSlDSe0L",
        "colab_type": "code",
        "colab": {
          "base_uri": "https://localhost:8080/",
          "height": 86
        },
        "outputId": "492fb870-e4cc-4764-da81-97f3e7267fae"
      },
      "source": [
        "maxHitsScore = max(hits.values())\n",
        "minHitsScore = min(hits.values())\n",
        "print(\"Max Hits Score = \",maxHitsScore)\n",
        "print(\"Min Hits Score = \",minHitsScore) \n",
        "\n",
        "maxAuthoritiesScore = max(authorities.values())\n",
        "minAuthoritiesScore = min(authorities.values())\n",
        "print(\"Max Authorities Score = \",maxAuthoritiesScore)\n",
        "print(\"Min Authorities Score = \",minAuthoritiesScore) "
      ],
      "execution_count": 47,
      "outputs": [
        {
          "output_type": "stream",
          "text": [
            "Max Hits Score =  0.010229403947448484\n",
            "Min Hits Score =  0.0\n",
            "Max Authorities Score =  0.007932133892198798\n",
            "Min Authorities Score =  0.0\n"
          ],
          "name": "stdout"
        }
      ]
    },
    {
      "cell_type": "markdown",
      "metadata": {
        "id": "Czhzf4zYQBGX",
        "colab_type": "text"
      },
      "source": [
        "# Gnutella P2P Network"
      ]
    },
    {
      "cell_type": "code",
      "metadata": {
        "id": "drN1E4QnJYYE",
        "colab_type": "code",
        "colab": {}
      },
      "source": [
        "df = pd.read_csv('/content/p2p-Gnutella04.txt', sep=\" \")"
      ],
      "execution_count": 0,
      "outputs": []
    },
    {
      "cell_type": "code",
      "metadata": {
        "id": "fRegEnPgJuh9",
        "colab_type": "code",
        "colab": {
          "base_uri": "https://localhost:8080/",
          "height": 54
        },
        "outputId": "3c75d0ad-5676-40fa-e710-e065b21f797f"
      },
      "source": [
        "G = nx.from_pandas_edgelist(df,'src','des',edge_attr=None,create_using=nx.DiGraph())\n",
        "nx.info(G)"
      ],
      "execution_count": 49,
      "outputs": [
        {
          "output_type": "execute_result",
          "data": {
            "text/plain": [
              "'Name: \\nType: DiGraph\\nNumber of nodes: 10876\\nNumber of edges: 39994\\nAverage in degree:   3.6773\\nAverage out degree:   3.6773'"
            ]
          },
          "metadata": {
            "tags": []
          },
          "execution_count": 49
        }
      ]
    },
    {
      "cell_type": "markdown",
      "metadata": {
        "id": "g6SgoXV0K5kv",
        "colab_type": "text"
      },
      "source": [
        "**Calculating PageRank**"
      ]
    },
    {
      "cell_type": "code",
      "metadata": {
        "id": "MoHAq6UiJvPM",
        "colab_type": "code",
        "colab": {}
      },
      "source": [
        "pagerank = nx.pagerank(G)"
      ],
      "execution_count": 0,
      "outputs": []
    },
    {
      "cell_type": "markdown",
      "metadata": {
        "id": "LaFLUQ2oXYQZ",
        "colab_type": "text"
      },
      "source": [
        "**Plotting the PageRank Scores**"
      ]
    },
    {
      "cell_type": "code",
      "metadata": {
        "id": "7XMN-JaZXcOC",
        "colab_type": "code",
        "colab": {
          "base_uri": "https://localhost:8080/",
          "height": 295
        },
        "outputId": "08cda052-9f48-43ef-9760-ff932cc75c84"
      },
      "source": [
        "lists = sorted(pagerank.items())\n",
        "x, y = zip(*lists)\n",
        "plt.plot(x,y)\n",
        "plt.ylabel('PageRank Score')\n",
        "plt.xlabel('Node ID')\n",
        "plt.title('PageRank Score of Gnutella P2P Network')\n",
        "plt.show()"
      ],
      "execution_count": 51,
      "outputs": [
        {
          "output_type": "display_data",
          "data": {
            "image/png": "[encoded data removed]",
            "text/plain": [
              "<Figure size 432x288 with 1 Axes>"
            ]
          },
          "metadata": {
            "tags": [],
            "needs_background": "light"
          }
        }
      ]
    },
    {
      "cell_type": "markdown",
      "metadata": {
        "id": "MZtC6zEiLB7v",
        "colab_type": "text"
      },
      "source": [
        "**Finding Max and Min PageRank Scores**"
      ]
    },
    {
      "cell_type": "code",
      "metadata": {
        "id": "b5p8E2j3J5i4",
        "colab_type": "code",
        "colab": {
          "base_uri": "https://localhost:8080/",
          "height": 52
        },
        "outputId": "a51ff6dc-628c-43ac-b41c-a3db639a4471"
      },
      "source": [
        "maxScore = max(pagerank.values())\n",
        "minScore = min(pagerank.values())\n",
        "print(\"Max PageRank Score = \",maxScore)\n",
        "print(\"Min PageRank Score = \",minScore) "
      ],
      "execution_count": 52,
      "outputs": [
        {
          "output_type": "stream",
          "text": [
            "Max PageRank Score =  0.0006711727183638689\n",
            "Min PageRank Score =  5.499573860784478e-05\n"
          ],
          "name": "stdout"
        }
      ]
    },
    {
      "cell_type": "markdown",
      "metadata": {
        "id": "5Pk9nwOcLP_0",
        "colab_type": "text"
      },
      "source": [
        "**Calculating HITS score**"
      ]
    },
    {
      "cell_type": "code",
      "metadata": {
        "id": "FszBKGJoKDwF",
        "colab_type": "code",
        "colab": {}
      },
      "source": [
        "hits, authorities = nx.hits(G)"
      ],
      "execution_count": 0,
      "outputs": []
    },
    {
      "cell_type": "markdown",
      "metadata": {
        "id": "iPeefs-CWqzS",
        "colab_type": "text"
      },
      "source": [
        "**Plotting the HITS Score**"
      ]
    },
    {
      "cell_type": "code",
      "metadata": {
        "id": "iS91VoOMWrj_",
        "colab_type": "code",
        "colab": {
          "base_uri": "https://localhost:8080/",
          "height": 295
        },
        "outputId": "ae9b5af8-fc99-4270-d4fc-3ffefade4ca3"
      },
      "source": [
        "lists = sorted(hits.items())\n",
        "x, y = zip(*lists)\n",
        "plt.plot(x,y)\n",
        "plt.ylabel('Hits Score')\n",
        "plt.xlabel('Node ID')\n",
        "plt.title('Hits Score of Gnutella P2P Network')\n",
        "plt.show()"
      ],
      "execution_count": 54,
      "outputs": [
        {
          "output_type": "display_data",
          "data": {
            "image/png": "[encoded data removed]",
            "text/plain": [
              "<Figure size 432x288 with 1 Axes>"
            ]
          },
          "metadata": {
            "tags": [],
            "needs_background": "light"
          }
        }
      ]
    },
    {
      "cell_type": "code",
      "metadata": {
        "id": "LvlSxl52Wz2l",
        "colab_type": "code",
        "colab": {
          "base_uri": "https://localhost:8080/",
          "height": 295
        },
        "outputId": "3011191d-5239-4f50-ed7b-6c65edf517df"
      },
      "source": [
        "lists = sorted(authorities.items())\n",
        "x, y = zip(*lists)\n",
        "plt.plot(x,y)\n",
        "plt.ylabel('Authorities Score')\n",
        "plt.xlabel('Node ID')\n",
        "plt.title('Authorities Score of Gnutella P2P network Dataset')\n",
        "plt.show()"
      ],
      "execution_count": 55,
      "outputs": [
        {
          "output_type": "display_data",
          "data": {
            "image/png": "[encoded data removed]",
            "text/plain": [
              "<Figure size 432x288 with 1 Axes>"
            ]
          },
          "metadata": {
            "tags": [],
            "needs_background": "light"
          }
        }
      ]
    },
    {
      "cell_type": "markdown",
      "metadata": {
        "id": "eXXUp_FqLbSl",
        "colab_type": "text"
      },
      "source": [
        "**Finding Max and Min HITS Scores**"
      ]
    },
    {
      "cell_type": "code",
      "metadata": {
        "id": "azwOXuHIKYFy",
        "colab_type": "code",
        "colab": {
          "base_uri": "https://localhost:8080/",
          "height": 86
        },
        "outputId": "c7249ec0-7592-48ee-aee3-2b7fb7e4f830"
      },
      "source": [
        "maxHitsScore = max(hits.values())\n",
        "minHitsScore = min(hits.values())\n",
        "print(\"Max Hits Score = \",maxHitsScore)\n",
        "print(\"Min Hits Score = \",minHitsScore) \n",
        "\n",
        "maxAuthoritiesScore = max(authorities.values())\n",
        "minAuthoritiesScore = min(authorities.values())\n",
        "print(\"Max Authorities Score = \",maxAuthoritiesScore)\n",
        "print(\"Min Authorities Score = \",minAuthoritiesScore) "
      ],
      "execution_count": 56,
      "outputs": [
        {
          "output_type": "stream",
          "text": [
            "Max Hits Score =  0.005167046979475104\n",
            "Min Hits Score =  0.0\n",
            "Max Authorities Score =  0.021553778629464077\n",
            "Min Authorities Score =  0.0\n"
          ],
          "name": "stdout"
        }
      ]
    },
    {
      "cell_type": "markdown",
      "metadata": {
        "id": "uaYOufJGTNNt",
        "colab_type": "text"
      },
      "source": [
        "# Twitter Network"
      ]
    },
    {
      "cell_type": "code",
      "metadata": {
        "id": "Yeb7GhRNTVlm",
        "colab_type": "code",
        "colab": {}
      },
      "source": [
        "df = pd.read_csv('/content/twitter.txt', sep=\" \")"
      ],
      "execution_count": 0,
      "outputs": []
    },
    {
      "cell_type": "code",
      "metadata": {
        "id": "P3R_rxUQTa2f",
        "colab_type": "code",
        "colab": {
          "base_uri": "https://localhost:8080/",
          "height": 54
        },
        "outputId": "652adc36-5489-4f99-951e-7d2a79ebcafc"
      },
      "source": [
        "G = nx.from_pandas_edgelist(df,'src','des',edge_attr=None,create_using=nx.DiGraph())\n",
        "nx.info(G)"
      ],
      "execution_count": 58,
      "outputs": [
        {
          "output_type": "execute_result",
          "data": {
            "text/plain": [
              "'Name: \\nType: DiGraph\\nNumber of nodes: 24395\\nNumber of edges: 494356\\nAverage in degree:  20.2646\\nAverage out degree:  20.2646'"
            ]
          },
          "metadata": {
            "tags": []
          },
          "execution_count": 58
        }
      ]
    },
    {
      "cell_type": "markdown",
      "metadata": {
        "id": "Q8Z4L8wFTlpo",
        "colab_type": "text"
      },
      "source": [
        "**Calculating PageRank**"
      ]
    },
    {
      "cell_type": "code",
      "metadata": {
        "id": "kKQRo-ZIToXJ",
        "colab_type": "code",
        "colab": {}
      },
      "source": [
        "pagerank = nx.pagerank(G)"
      ],
      "execution_count": 0,
      "outputs": []
    },
    {
      "cell_type": "markdown",
      "metadata": {
        "id": "aNjfZzqEWNmK",
        "colab_type": "text"
      },
      "source": [
        "**Plotting the PageRank Scores**"
      ]
    },
    {
      "cell_type": "code",
      "metadata": {
        "id": "fahYCrd6WRJt",
        "colab_type": "code",
        "colab": {
          "base_uri": "https://localhost:8080/",
          "height": 295
        },
        "outputId": "5bd5f9e3-b0ea-47a0-d7c3-6c6b20606981"
      },
      "source": [
        "lists = sorted(pagerank.items())\n",
        "x, y = zip(*lists)\n",
        "plt.plot(x,y)\n",
        "plt.ylabel('PageRank Scores')\n",
        "plt.xlabel('Node ID')\n",
        "plt.title('PageRank Scores  of Twitter Network')\n",
        "plt.show()"
      ],
      "execution_count": 60,
      "outputs": [
        {
          "output_type": "display_data",
          "data": {
            "image/png": "[encoded data removed]",
            "text/plain": [
              "<Figure size 432x288 with 1 Axes>"
            ]
          },
          "metadata": {
            "tags": [],
            "needs_background": "light"
          }
        }
      ]
    },
    {
      "cell_type": "markdown",
      "metadata": {
        "id": "SRgjGJ45TrBn",
        "colab_type": "text"
      },
      "source": [
        "**Finding Max and Min PageRank Scores**"
      ]
    },
    {
      "cell_type": "code",
      "metadata": {
        "id": "BKsOy4v7Tuap",
        "colab_type": "code",
        "colab": {
          "base_uri": "https://localhost:8080/",
          "height": 52
        },
        "outputId": "9359ca25-a175-4703-d88c-62c334039c9f"
      },
      "source": [
        "maxScore = max(pagerank.values())\n",
        "minScore = min(pagerank.values())\n",
        "print(\"Max PageRank Score = \",maxScore)\n",
        "print(\"Min PageRank Score = \",minScore) "
      ],
      "execution_count": 61,
      "outputs": [
        {
          "output_type": "stream",
          "text": [
            "Max PageRank Score =  0.007760165920363505\n",
            "Min PageRank Score =  7.897270260407828e-06\n"
          ],
          "name": "stdout"
        }
      ]
    },
    {
      "cell_type": "markdown",
      "metadata": {
        "id": "k_11Zq6eT2hm",
        "colab_type": "text"
      },
      "source": [
        "**Calculating HITS score**"
      ]
    },
    {
      "cell_type": "code",
      "metadata": {
        "id": "0FLOXoBLT6Lz",
        "colab_type": "code",
        "colab": {}
      },
      "source": [
        "hits, authorities = nx.hits(G)"
      ],
      "execution_count": 0,
      "outputs": []
    },
    {
      "cell_type": "markdown",
      "metadata": {
        "id": "xioNuRTeVo3g",
        "colab_type": "text"
      },
      "source": [
        "**Plotting the HITS Score**"
      ]
    },
    {
      "cell_type": "code",
      "metadata": {
        "id": "nfFynCekVxOk",
        "colab_type": "code",
        "colab": {
          "base_uri": "https://localhost:8080/",
          "height": 295
        },
        "outputId": "6dbc201a-f8b7-4d63-8d30-d0bbaef7b8a1"
      },
      "source": [
        "lists = sorted(hits.items())\n",
        "x, y = zip(*lists)\n",
        "plt.plot(x,y)\n",
        "plt.ylabel('Hits Score')\n",
        "plt.xlabel('Node ID')\n",
        "plt.title('Hits Score of Twitter Network')\n",
        "plt.show()"
      ],
      "execution_count": 63,
      "outputs": [
        {
          "output_type": "display_data",
          "data": {
            "image/png": "[encoded data removed]",
            "text/plain": [
              "<Figure size 432x288 with 1 Axes>"
            ]
          },
          "metadata": {
            "tags": [],
            "needs_background": "light"
          }
        }
      ]
    },
    {
      "cell_type": "code",
      "metadata": {
        "id": "N2dp_75lWAnL",
        "colab_type": "code",
        "colab": {
          "base_uri": "https://localhost:8080/",
          "height": 295
        },
        "outputId": "fefef420-5bc6-4015-c8b8-14ba40e024a6"
      },
      "source": [
        "lists = sorted(authorities.items())\n",
        "x, y = zip(*lists)\n",
        "plt.plot(x,y)\n",
        "plt.ylabel('Authorities Score')\n",
        "plt.xlabel('Node ID')\n",
        "plt.title('Authorities Score of Twitter Network')\n",
        "plt.show()"
      ],
      "execution_count": 64,
      "outputs": [
        {
          "output_type": "display_data",
          "data": {
            "image/png": "[encoded data removed]",
            "text/plain": [
              "<Figure size 432x288 with 1 Axes>"
            ]
          },
          "metadata": {
            "tags": [],
            "needs_background": "light"
          }
        }
      ]
    },
    {
      "cell_type": "markdown",
      "metadata": {
        "id": "Pzv7s0fYT-SU",
        "colab_type": "text"
      },
      "source": [
        "**Finding Max and Min HITS Scores**"
      ]
    },
    {
      "cell_type": "code",
      "metadata": {
        "id": "0XqIIVAKT-pO",
        "colab_type": "code",
        "colab": {
          "base_uri": "https://localhost:8080/",
          "height": 86
        },
        "outputId": "e46ea0fa-8940-473d-e97b-0f4b444f6595"
      },
      "source": [
        "maxHitsScore = max(hits.values())\n",
        "minHitsScore = min(hits.values())\n",
        "print(\"Max Hits Score = \",maxHitsScore)\n",
        "print(\"Min Hits Score = \",minHitsScore) \n",
        "\n",
        "maxAuthoritiesScore = max(authorities.values())\n",
        "minAuthoritiesScore = min(authorities.values())\n",
        "print(\"Max Authorities Score = \",maxAuthoritiesScore)\n",
        "print(\"Min Authorities Score = \",minAuthoritiesScore) "
      ],
      "execution_count": 65,
      "outputs": [
        {
          "output_type": "stream",
          "text": [
            "Max Hits Score =  0.005372050875801651\n",
            "Min Hits Score =  0.0\n",
            "Max Authorities Score =  0.012811007732008486\n",
            "Min Authorities Score =  0.0\n"
          ],
          "name": "stdout"
        }
      ]
    }
  ]
}