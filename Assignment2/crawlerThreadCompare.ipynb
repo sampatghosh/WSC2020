{
  "nbformat": 4,
  "nbformat_minor": 0,
  "metadata": {
    "colab": {
      "name": "crawlerThreadCompare.ipynb",
      "provenance": [],
      "collapsed_sections": []
    },
    "kernelspec": {
      "name": "python3",
      "display_name": "Python 3"
    }
  },
  "cells": [
    {
      "cell_type": "code",
      "metadata": {
        "id": "rt4khwI0k50-",
        "colab_type": "code",
        "colab": {
          "base_uri": "https://localhost:8080/",
          "height": 191
        },
        "outputId": "4fb3afbd-0ecb-4287-e524-23ce005928d7"
      },
      "source": [
        "pip install icrawler"
      ],
      "execution_count": 14,
      "outputs": [
        {
          "output_type": "stream",
          "text": [
            "Requirement already satisfied: icrawler in /usr/local/lib/python3.6/dist-packages (0.6.2)\n",
            "Requirement already satisfied: six>=1.10.0 in /usr/local/lib/python3.6/dist-packages (from icrawler) (1.12.0)\n",
            "Requirement already satisfied: beautifulsoup4>=4.4.1 in /usr/local/lib/python3.6/dist-packages (from icrawler) (4.6.3)\n",
            "Requirement already satisfied: Pillow in /usr/local/lib/python3.6/dist-packages (from icrawler) (6.2.2)\n",
            "Requirement already satisfied: requests>=2.9.1 in /usr/local/lib/python3.6/dist-packages (from icrawler) (2.21.0)\n",
            "Requirement already satisfied: lxml in /usr/local/lib/python3.6/dist-packages (from icrawler) (4.2.6)\n",
            "Requirement already satisfied: urllib3<1.25,>=1.21.1 in /usr/local/lib/python3.6/dist-packages (from requests>=2.9.1->icrawler) (1.24.3)\n",
            "Requirement already satisfied: chardet<3.1.0,>=3.0.2 in /usr/local/lib/python3.6/dist-packages (from requests>=2.9.1->icrawler) (3.0.4)\n",
            "Requirement already satisfied: idna<2.9,>=2.5 in /usr/local/lib/python3.6/dist-packages (from requests>=2.9.1->icrawler) (2.8)\n",
            "Requirement already satisfied: certifi>=2017.4.17 in /usr/local/lib/python3.6/dist-packages (from requests>=2.9.1->icrawler) (2019.11.28)\n"
          ],
          "name": "stdout"
        }
      ]
    },
    {
      "cell_type": "code",
      "metadata": {
        "id": "F-mFXEz06JP-",
        "colab_type": "code",
        "outputId": "5c93b3cc-d285-4ced-8758-5b24eec69495",
        "colab": {
          "base_uri": "https://localhost:8080/",
          "height": 436
        }
      },
      "source": [
        "from icrawler.builtin import GoogleImageCrawler\n",
        "\n",
        "from datetime import datetime\n",
        "\n",
        "now = datetime.now()\n",
        "\n",
        "current_time = now.strftime(\"%H:%M:%S\")\n",
        "print(\"Current Time =\", current_time)\n",
        "\n",
        "google_crawler = GoogleImageCrawler(\n",
        "    feeder_threads=1,\n",
        "    parser_threads=1,\n",
        "    downloader_threads=1,\n",
        "    storage={'root_dir': 'your_image_dir'})\n",
        "filters = dict(\n",
        "    size='large',\n",
        "    color='black',\n",
        "    license='commercial,modify',\n",
        "    date=((2005, 1, 1), (2018, 12, 31)))\n",
        "google_crawler.crawl(keyword='Linkin Park', filters=filters, max_num=1000, file_idx_offset=0)\n",
        "\n",
        "\n",
        "now1 = datetime.now()\n",
        "\n",
        "current_time = now1.strftime(\"%H:%M:%S\")\n",
        "print(\"Current Time =\", current_time)"
      ],
      "execution_count": 15,
      "outputs": [
        {
          "output_type": "stream",
          "text": [
            "2020-03-13 06:31:21,206 - INFO - icrawler.crawler - start crawling...\n",
            "2020-03-13 06:31:21,207 - INFO - icrawler.crawler - starting 1 feeder threads...\n",
            "2020-03-13 06:31:21,209 - INFO - icrawler.crawler - starting 1 parser threads...\n",
            "2020-03-13 06:31:21,212 - INFO - icrawler.crawler - starting 1 downloader threads...\n"
          ],
          "name": "stderr"
        },
        {
          "output_type": "stream",
          "text": [
            "Current Time = 06:31:21\n"
          ],
          "name": "stdout"
        },
        {
          "output_type": "stream",
          "text": [
            "2020-03-13 06:31:22,083 - INFO - parser - parsing result page https://www.google.com/search?q=Linkin+Park&ijn=0&start=0&tbs=isz%3Al%2Cic%3Aspecific%2Cisc%3Ablack%2Csur%3Afmc%2Ccdr%3A1%2Ccd_min%3A01%2F01%2F2005%2Ccd_max%3A12%2F31%2F2018&tbm=isch\n",
            "2020-03-13 06:31:22,457 - INFO - parser - parsing result page https://www.google.com/search?q=Linkin+Park&ijn=1&start=100&tbs=isz%3Al%2Cic%3Aspecific%2Cisc%3Ablack%2Csur%3Afmc%2Ccdr%3A1%2Ccd_min%3A01%2F01%2F2005%2Ccd_max%3A12%2F31%2F2018&tbm=isch\n",
            "2020-03-13 06:31:23,466 - INFO - parser - parsing result page https://www.google.com/search?q=Linkin+Park&ijn=2&start=200&tbs=isz%3Al%2Cic%3Aspecific%2Cisc%3Ablack%2Csur%3Afmc%2Ccdr%3A1%2Ccd_min%3A01%2F01%2F2005%2Ccd_max%3A12%2F31%2F2018&tbm=isch\n",
            "2020-03-13 06:31:23,835 - INFO - parser - parsing result page https://www.google.com/search?q=Linkin+Park&ijn=3&start=300&tbs=isz%3Al%2Cic%3Aspecific%2Cisc%3Ablack%2Csur%3Afmc%2Ccdr%3A1%2Ccd_min%3A01%2F01%2F2005%2Ccd_max%3A12%2F31%2F2018&tbm=isch\n",
            "2020-03-13 06:31:23,879 - INFO - feeder - thread feeder-001 exit\n",
            "2020-03-13 06:31:24,230 - INFO - parser - parsing result page https://www.google.com/search?q=Linkin+Park&ijn=4&start=400&tbs=isz%3Al%2Cic%3Aspecific%2Cisc%3Ablack%2Csur%3Afmc%2Ccdr%3A1%2Ccd_min%3A01%2F01%2F2005%2Ccd_max%3A12%2F31%2F2018&tbm=isch\n",
            "2020-03-13 06:31:24,588 - INFO - parser - parsing result page https://www.google.com/search?q=Linkin+Park&ijn=5&start=500&tbs=isz%3Al%2Cic%3Aspecific%2Cisc%3Ablack%2Csur%3Afmc%2Ccdr%3A1%2Ccd_min%3A01%2F01%2F2005%2Ccd_max%3A12%2F31%2F2018&tbm=isch\n",
            "2020-03-13 06:31:24,954 - INFO - parser - parsing result page https://www.google.com/search?q=Linkin+Park&ijn=6&start=600&tbs=isz%3Al%2Cic%3Aspecific%2Cisc%3Ablack%2Csur%3Afmc%2Ccdr%3A1%2Ccd_min%3A01%2F01%2F2005%2Ccd_max%3A12%2F31%2F2018&tbm=isch\n",
            "2020-03-13 06:31:25,312 - INFO - parser - parsing result page https://www.google.com/search?q=Linkin+Park&ijn=7&start=700&tbs=isz%3Al%2Cic%3Aspecific%2Cisc%3Ablack%2Csur%3Afmc%2Ccdr%3A1%2Ccd_min%3A01%2F01%2F2005%2Ccd_max%3A12%2F31%2F2018&tbm=isch\n",
            "2020-03-13 06:31:25,670 - INFO - parser - parsing result page https://www.google.com/search?q=Linkin+Park&ijn=8&start=800&tbs=isz%3Al%2Cic%3Aspecific%2Cisc%3Ablack%2Csur%3Afmc%2Ccdr%3A1%2Ccd_min%3A01%2F01%2F2005%2Ccd_max%3A12%2F31%2F2018&tbm=isch\n",
            "2020-03-13 06:31:26,031 - INFO - parser - parsing result page https://www.google.com/search?q=Linkin+Park&ijn=9&start=900&tbs=isz%3Al%2Cic%3Aspecific%2Cisc%3Ablack%2Csur%3Afmc%2Ccdr%3A1%2Ccd_min%3A01%2F01%2F2005%2Ccd_max%3A12%2F31%2F2018&tbm=isch\n",
            "2020-03-13 06:31:26,216 - INFO - downloader - downloader-001 is waiting for new download tasks\n",
            "2020-03-13 06:31:28,152 - INFO - parser - no more page urls for thread parser-001 to parse\n",
            "2020-03-13 06:31:28,153 - INFO - parser - thread parser-001 exit\n",
            "2020-03-13 06:31:31,217 - INFO - downloader - no more download task for thread downloader-001\n",
            "2020-03-13 06:31:31,219 - INFO - downloader - thread downloader-001 exit\n",
            "2020-03-13 06:31:31,226 - INFO - icrawler.crawler - Crawling task done!\n"
          ],
          "name": "stderr"
        },
        {
          "output_type": "stream",
          "text": [
            "Current Time = 06:31:31\n"
          ],
          "name": "stdout"
        }
      ]
    },
    {
      "cell_type": "code",
      "metadata": {
        "id": "Tw5r-VyP6h8h",
        "colab_type": "code",
        "outputId": "ca0b51ca-9881-4f1a-a051-8fb942d4dbe9",
        "colab": {
          "base_uri": "https://localhost:8080/",
          "height": 34
        }
      },
      "source": [
        "print(now1-now)"
      ],
      "execution_count": 16,
      "outputs": [
        {
          "output_type": "stream",
          "text": [
            "0:00:10.034209\n"
          ],
          "name": "stdout"
        }
      ]
    },
    {
      "cell_type": "code",
      "metadata": {
        "id": "xPwsmoHX6mYC",
        "colab_type": "code",
        "outputId": "d3868d6b-93c1-4a46-af90-af432d9242ab",
        "colab": {
          "base_uri": "https://localhost:8080/",
          "height": 923
        }
      },
      "source": [
        "from icrawler.builtin import GoogleImageCrawler\n",
        "\n",
        "from datetime import datetime\n",
        "\n",
        "now = datetime.now()\n",
        "\n",
        "current_time = now.strftime(\"%H:%M:%S\")\n",
        "print(\"Current Time =\", current_time)\n",
        "\n",
        "google_crawler = GoogleImageCrawler(\n",
        "    feeder_threads=8,\n",
        "    parser_threads=8,\n",
        "    downloader_threads=5,\n",
        "    storage={'root_dir': 'your_image_dir'})\n",
        "filters = dict(\n",
        "    size='large',\n",
        "    color='black',\n",
        "    license='commercial,modify',\n",
        "    date=((2005, 1, 1), (2018, 12, 31)))\n",
        "google_crawler.crawl(keyword='Linkin Park', filters=filters, max_num=1000, file_idx_offset=0)\n",
        "\n",
        "\n",
        "now1 = datetime.now()\n",
        "\n",
        "current_time = now1.strftime(\"%H:%M:%S\")\n",
        "print(\"Current Time =\", current_time)"
      ],
      "execution_count": 17,
      "outputs": [
        {
          "output_type": "stream",
          "text": [
            "2020-03-13 06:31:31,265 - INFO - icrawler.crawler - start crawling...\n",
            "2020-03-13 06:31:31,266 - INFO - icrawler.crawler - starting 8 feeder threads...\n",
            "2020-03-13 06:31:31,269 - INFO - feeder - thread feeder-001 exit\n",
            "2020-03-13 06:31:31,272 - INFO - feeder - thread feeder-002 exit\n",
            "2020-03-13 06:31:31,274 - INFO - feeder - thread feeder-003 exit\n",
            "2020-03-13 06:31:31,279 - INFO - feeder - thread feeder-004 exit\n",
            "2020-03-13 06:31:31,281 - INFO - feeder - thread feeder-005 exit\n",
            "2020-03-13 06:31:31,286 - INFO - feeder - thread feeder-006 exit\n",
            "2020-03-13 06:31:31,288 - INFO - feeder - thread feeder-007 exit\n",
            "2020-03-13 06:31:31,290 - INFO - feeder - thread feeder-008 exit\n",
            "2020-03-13 06:31:31,291 - INFO - icrawler.crawler - starting 8 parser threads...\n",
            "2020-03-13 06:31:31,341 - INFO - icrawler.crawler - starting 5 downloader threads...\n"
          ],
          "name": "stderr"
        },
        {
          "output_type": "stream",
          "text": [
            "Current Time = 06:31:31\n"
          ],
          "name": "stdout"
        },
        {
          "output_type": "stream",
          "text": [
            "2020-03-13 06:31:31,648 - INFO - parser - parsing result page https://www.google.com/search?q=Linkin+Park&ijn=2&start=200&tbs=isz%3Al%2Cic%3Aspecific%2Cisc%3Ablack%2Csur%3Afmc%2Ccdr%3A1%2Ccd_min%3A01%2F01%2F2005%2Ccd_max%3A12%2F31%2F2018&tbm=isch\n",
            "2020-03-13 06:31:31,740 - INFO - parser - parsing result page https://www.google.com/search?q=Linkin+Park&ijn=5&start=500&tbs=isz%3Al%2Cic%3Aspecific%2Cisc%3Ablack%2Csur%3Afmc%2Ccdr%3A1%2Ccd_min%3A01%2F01%2F2005%2Ccd_max%3A12%2F31%2F2018&tbm=isch\n",
            "2020-03-13 06:31:31,760 - INFO - parser - parsing result page https://www.google.com/search?q=Linkin+Park&ijn=1&start=100&tbs=isz%3Al%2Cic%3Aspecific%2Cisc%3Ablack%2Csur%3Afmc%2Ccdr%3A1%2Ccd_min%3A01%2F01%2F2005%2Ccd_max%3A12%2F31%2F2018&tbm=isch\n",
            "2020-03-13 06:31:31,768 - INFO - parser - parsing result page https://www.google.com/search?q=Linkin+Park&ijn=0&start=0&tbs=isz%3Al%2Cic%3Aspecific%2Cisc%3Ablack%2Csur%3Afmc%2Ccdr%3A1%2Ccd_min%3A01%2F01%2F2005%2Ccd_max%3A12%2F31%2F2018&tbm=isch\n",
            "2020-03-13 06:31:31,772 - INFO - parser - parsing result page https://www.google.com/search?q=Linkin+Park&ijn=7&start=700&tbs=isz%3Al%2Cic%3Aspecific%2Cisc%3Ablack%2Csur%3Afmc%2Ccdr%3A1%2Ccd_min%3A01%2F01%2F2005%2Ccd_max%3A12%2F31%2F2018&tbm=isch\n",
            "2020-03-13 06:31:31,774 - INFO - parser - parsing result page https://www.google.com/search?q=Linkin+Park&ijn=3&start=300&tbs=isz%3Al%2Cic%3Aspecific%2Cisc%3Ablack%2Csur%3Afmc%2Ccdr%3A1%2Ccd_min%3A01%2F01%2F2005%2Ccd_max%3A12%2F31%2F2018&tbm=isch\n",
            "2020-03-13 06:31:31,769 - INFO - parser - parsing result page https://www.google.com/search?q=Linkin+Park&ijn=4&start=400&tbs=isz%3Al%2Cic%3Aspecific%2Cisc%3Ablack%2Csur%3Afmc%2Ccdr%3A1%2Ccd_min%3A01%2F01%2F2005%2Ccd_max%3A12%2F31%2F2018&tbm=isch\n",
            "2020-03-13 06:31:32,054 - INFO - parser - parsing result page https://www.google.com/search?q=Linkin+Park&ijn=8&start=800&tbs=isz%3Al%2Cic%3Aspecific%2Cisc%3Ablack%2Csur%3Afmc%2Ccdr%3A1%2Ccd_min%3A01%2F01%2F2005%2Ccd_max%3A12%2F31%2F2018&tbm=isch\n",
            "2020-03-13 06:31:32,127 - INFO - parser - parsing result page https://www.google.com/search?q=Linkin+Park&ijn=6&start=600&tbs=isz%3Al%2Cic%3Aspecific%2Cisc%3Ablack%2Csur%3Afmc%2Ccdr%3A1%2Ccd_min%3A01%2F01%2F2005%2Ccd_max%3A12%2F31%2F2018&tbm=isch\n",
            "2020-03-13 06:31:32,219 - INFO - parser - parsing result page https://www.google.com/search?q=Linkin+Park&ijn=9&start=900&tbs=isz%3Al%2Cic%3Aspecific%2Cisc%3Ablack%2Csur%3Afmc%2Ccdr%3A1%2Ccd_min%3A01%2F01%2F2005%2Ccd_max%3A12%2F31%2F2018&tbm=isch\n",
            "2020-03-13 06:31:33,872 - INFO - parser - no more page urls for thread parser-006 to parse\n",
            "2020-03-13 06:31:33,874 - INFO - parser - thread parser-006 exit\n",
            "2020-03-13 06:31:33,962 - INFO - parser - no more page urls for thread parser-001 to parse\n",
            "2020-03-13 06:31:33,963 - INFO - parser - thread parser-001 exit\n",
            "2020-03-13 06:31:33,970 - INFO - parser - no more page urls for thread parser-008 to parse\n",
            "2020-03-13 06:31:33,971 - INFO - parser - thread parser-008 exit\n",
            "2020-03-13 06:31:34,009 - INFO - parser - no more page urls for thread parser-004 to parse\n",
            "2020-03-13 06:31:34,010 - INFO - parser - thread parser-004 exit\n",
            "2020-03-13 06:31:34,066 - INFO - parser - no more page urls for thread parser-005 to parse\n",
            "2020-03-13 06:31:34,067 - INFO - parser - thread parser-005 exit\n",
            "2020-03-13 06:31:34,108 - INFO - parser - no more page urls for thread parser-003 to parse\n",
            "2020-03-13 06:31:34,109 - INFO - parser - thread parser-003 exit\n",
            "2020-03-13 06:31:34,170 - INFO - parser - no more page urls for thread parser-007 to parse\n",
            "2020-03-13 06:31:34,172 - INFO - parser - thread parser-007 exit\n",
            "2020-03-13 06:31:34,260 - INFO - parser - no more page urls for thread parser-002 to parse\n",
            "2020-03-13 06:31:34,261 - INFO - parser - thread parser-002 exit\n",
            "2020-03-13 06:31:36,358 - INFO - downloader - no more download task for thread downloader-001\n",
            "2020-03-13 06:31:36,359 - INFO - downloader - thread downloader-001 exit\n",
            "2020-03-13 06:31:36,362 - INFO - downloader - no more download task for thread downloader-002\n",
            "2020-03-13 06:31:36,364 - INFO - downloader - thread downloader-002 exit\n",
            "2020-03-13 06:31:36,364 - INFO - downloader - no more download task for thread downloader-003\n",
            "2020-03-13 06:31:36,367 - INFO - downloader - thread downloader-003 exit\n",
            "2020-03-13 06:31:36,366 - INFO - downloader - no more download task for thread downloader-004\n",
            "2020-03-13 06:31:36,371 - INFO - downloader - thread downloader-004 exit\n",
            "2020-03-13 06:31:36,366 - INFO - downloader - no more download task for thread downloader-005\n",
            "2020-03-13 06:31:36,380 - INFO - downloader - thread downloader-005 exit\n",
            "2020-03-13 06:31:37,371 - INFO - icrawler.crawler - Crawling task done!\n"
          ],
          "name": "stderr"
        },
        {
          "output_type": "stream",
          "text": [
            "Current Time = 06:31:37\n"
          ],
          "name": "stdout"
        }
      ]
    },
    {
      "cell_type": "code",
      "metadata": {
        "id": "-xuZCIBo6xzM",
        "colab_type": "code",
        "outputId": "2e974ac7-16e3-4b87-d057-22d3822cc599",
        "colab": {
          "base_uri": "https://localhost:8080/",
          "height": 34
        }
      },
      "source": [
        "print(now1-now)"
      ],
      "execution_count": 18,
      "outputs": [
        {
          "output_type": "stream",
          "text": [
            "0:00:06.110557\n"
          ],
          "name": "stdout"
        }
      ]
    }
  ]
}